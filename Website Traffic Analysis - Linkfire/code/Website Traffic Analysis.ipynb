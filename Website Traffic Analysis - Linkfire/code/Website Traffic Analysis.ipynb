{
 "cells": [
  {
   "cell_type": "markdown",
   "id": "64abdda8",
   "metadata": {},
   "source": [
    "# Website Traffic Analysis\n",
    "\n",
    "The goal of this project is to understand this traffic better, in particular the volume and distribution of events, and to develop ideas how to increase the links' clickrates. With that in mind, please analyze the data using the Python libraries Pandas and SciPy where indicated, providing answers to the presented questions:\n",
    "\n",
    "    1. How many total pageview events did the links in the provided dataset receive in the full period, how many per day?\n",
    "    2. What about the other recorded events?\n",
    "    3. Which countries did the pageviews come from?\n",
    "    4. What was the overall click rate (clicks/pageviews)?\n",
    "    5. How does the clickrate distribute across different links?\n",
    "    6. Is there any correlation between clicks and previews on a link? Is it significant? How large is the effect? Make sure to at least test for potential linear as well as categorical relationships between both variables.\n",
    "    \n",
    "\n",
    "Data Description\n",
    "The data set provided (traffic.csv) contains web traffic data (\"events\") from a few different pages (\"links\") over a period of 7 days including various categorical dimensions about the geographic origin of that traffic as well as a page's content: https://isrc.ifpi.org/en/"
   ]
  },
  {
   "cell_type": "code",
   "execution_count": 124,
   "id": "a9ac6047",
   "metadata": {},
   "outputs": [],
   "source": [
    "# Import libraries\n",
    "import pandas as pd\n",
    "import numpy as np\n",
    "import re\n",
    "import glob\n",
    "import os.path\n",
    "import calendar\n",
    "import matplotlib.pyplot as plt\n",
    "%matplotlib inline\n",
    "from datetime import datetime\n",
    "from dateutil.relativedelta import relativedelta\n",
    "from sklearn.cluster import DBSCAN\n",
    "from kmodes.kmodes import KModes\n",
    "from sklearn.preprocessing import MinMaxScaler\n",
    "from pandas.api.types import is_numeric_dtype\n",
    "from pandas_profiling import ProfileReport\n",
    "import dtale\n",
    "from scipy import stats\n",
    "import sweetviz as sv\n",
    "pd.set_option('display.max_rows', 99999)\n",
    "pd.set_option('display.max_columns', 99999)\n",
    "from IPython.core.interactiveshell import InteractiveShell\n",
    "InteractiveShell.act_node_interactivity = 'all'\n",
    "import warnings\n",
    "warnings.filterwarnings('ignore')"
   ]
  },
  {
   "cell_type": "code",
   "execution_count": 73,
   "id": "aec46f17",
   "metadata": {},
   "outputs": [],
   "source": [
    "# Read data\n",
    "df_ = pd.read_csv(r\"C:\\Users\\krish\\Desktop\\StrataScratch\\Data Projects\\Website Traffic Analysis - Linkfire\\datasets\\traffic.csv\")"
   ]
  },
  {
   "cell_type": "markdown",
   "id": "67c05486",
   "metadata": {},
   "source": [
    "### Data Understanding\n"
   ]
  },
  {
   "cell_type": "code",
   "execution_count": 74,
   "id": "1305c3ba",
   "metadata": {},
   "outputs": [],
   "source": [
    "df = df_.copy()"
   ]
  },
  {
   "cell_type": "code",
   "execution_count": 75,
   "id": "f2f94735",
   "metadata": {},
   "outputs": [
    {
     "data": {
      "text/plain": [
       "(226278, 9)"
      ]
     },
     "execution_count": 75,
     "metadata": {},
     "output_type": "execute_result"
    }
   ],
   "source": [
    "df.shape"
   ]
  },
  {
   "cell_type": "code",
   "execution_count": 76,
   "id": "7edd717b",
   "metadata": {},
   "outputs": [
    {
     "data": {
      "text/html": [
       "<div>\n",
       "<style scoped>\n",
       "    .dataframe tbody tr th:only-of-type {\n",
       "        vertical-align: middle;\n",
       "    }\n",
       "\n",
       "    .dataframe tbody tr th {\n",
       "        vertical-align: top;\n",
       "    }\n",
       "\n",
       "    .dataframe thead th {\n",
       "        text-align: right;\n",
       "    }\n",
       "</style>\n",
       "<table border=\"1\" class=\"dataframe\">\n",
       "  <thead>\n",
       "    <tr style=\"text-align: right;\">\n",
       "      <th></th>\n",
       "      <th>event</th>\n",
       "      <th>date</th>\n",
       "      <th>country</th>\n",
       "      <th>city</th>\n",
       "      <th>artist</th>\n",
       "      <th>album</th>\n",
       "      <th>track</th>\n",
       "      <th>isrc</th>\n",
       "      <th>linkid</th>\n",
       "    </tr>\n",
       "  </thead>\n",
       "  <tbody>\n",
       "    <tr>\n",
       "      <th>0</th>\n",
       "      <td>click</td>\n",
       "      <td>2021-08-21</td>\n",
       "      <td>Saudi Arabia</td>\n",
       "      <td>Jeddah</td>\n",
       "      <td>Tesher</td>\n",
       "      <td>Jalebi Baby</td>\n",
       "      <td>Jalebi Baby</td>\n",
       "      <td>QZNWQ2070741</td>\n",
       "      <td>2d896d31-97b6-4869-967b-1c5fb9cd4bb8</td>\n",
       "    </tr>\n",
       "    <tr>\n",
       "      <th>1</th>\n",
       "      <td>click</td>\n",
       "      <td>2021-08-21</td>\n",
       "      <td>Saudi Arabia</td>\n",
       "      <td>Jeddah</td>\n",
       "      <td>Tesher</td>\n",
       "      <td>Jalebi Baby</td>\n",
       "      <td>Jalebi Baby</td>\n",
       "      <td>QZNWQ2070741</td>\n",
       "      <td>2d896d31-97b6-4869-967b-1c5fb9cd4bb8</td>\n",
       "    </tr>\n",
       "  </tbody>\n",
       "</table>\n",
       "</div>"
      ],
      "text/plain": [
       "   event        date       country    city  artist        album        track  \\\n",
       "0  click  2021-08-21  Saudi Arabia  Jeddah  Tesher  Jalebi Baby  Jalebi Baby   \n",
       "1  click  2021-08-21  Saudi Arabia  Jeddah  Tesher  Jalebi Baby  Jalebi Baby   \n",
       "\n",
       "           isrc                                linkid  \n",
       "0  QZNWQ2070741  2d896d31-97b6-4869-967b-1c5fb9cd4bb8  \n",
       "1  QZNWQ2070741  2d896d31-97b6-4869-967b-1c5fb9cd4bb8  "
      ]
     },
     "execution_count": 76,
     "metadata": {},
     "output_type": "execute_result"
    }
   ],
   "source": [
    "df.head(2)"
   ]
  },
  {
   "cell_type": "code",
   "execution_count": 77,
   "id": "8899d098",
   "metadata": {},
   "outputs": [],
   "source": [
    "# drop duplicates as we can see the first two observations\n",
    "df.drop_duplicates(inplace=True)"
   ]
  },
  {
   "cell_type": "code",
   "execution_count": 78,
   "id": "583573a1",
   "metadata": {},
   "outputs": [
    {
     "data": {
      "text/plain": [
       "(122567, 9)"
      ]
     },
     "execution_count": 78,
     "metadata": {},
     "output_type": "execute_result"
    }
   ],
   "source": [
    "df.shape"
   ]
  },
  {
   "cell_type": "code",
   "execution_count": 42,
   "id": "b1c832b6",
   "metadata": {},
   "outputs": [
    {
     "name": "stdout",
     "output_type": "stream",
     "text": [
      "<class 'pandas.core.frame.DataFrame'>\n",
      "Int64Index: 122567 entries, 0 to 226274\n",
      "Data columns (total 9 columns):\n",
      " #   Column   Non-Null Count   Dtype \n",
      "---  ------   --------------   ----- \n",
      " 0   event    122567 non-null  object\n",
      " 1   date     122567 non-null  object\n",
      " 2   country  122562 non-null  object\n",
      " 3   city     122562 non-null  object\n",
      " 4   artist   122539 non-null  object\n",
      " 5   album    122563 non-null  object\n",
      " 6   track    122563 non-null  object\n",
      " 7   isrc     116261 non-null  object\n",
      " 8   linkid   122567 non-null  object\n",
      "dtypes: object(9)\n",
      "memory usage: 9.4+ MB\n"
     ]
    }
   ],
   "source": [
    "df.info()"
   ]
  },
  {
   "cell_type": "code",
   "execution_count": 43,
   "id": "926c8ebe",
   "metadata": {},
   "outputs": [],
   "source": [
    "# Missing data\n",
    "def missing_data(data):\n",
    "    missing = data.isna().sum()\n",
    "    percent_missing = (data.isna().sum()/data.isna().count()*100)   \n",
    "    total_count = data.count()\n",
    "    temp = pd.concat([total_count,missing, percent_missing], axis=1, keys=['Total','Missing', 'Missing(%)'])\n",
    "    types = []\n",
    "    for col in data.columns:\n",
    "        dtype = str(data[col].dtype)\n",
    "        types.append(dtype)\n",
    "    temp['Types'] = types\n",
    "    temp.sort_values('Missing(%)',ascending=False ,inplace=True)\n",
    "    temp.reset_index(inplace=True)\n",
    "    temp.rename(columns={'index':'column_name'}, inplace=True)\n",
    "    \n",
    "    return(temp)"
   ]
  },
  {
   "cell_type": "code",
   "execution_count": 44,
   "id": "8df9c5e7",
   "metadata": {},
   "outputs": [
    {
     "data": {
      "text/html": [
       "<div>\n",
       "<style scoped>\n",
       "    .dataframe tbody tr th:only-of-type {\n",
       "        vertical-align: middle;\n",
       "    }\n",
       "\n",
       "    .dataframe tbody tr th {\n",
       "        vertical-align: top;\n",
       "    }\n",
       "\n",
       "    .dataframe thead th {\n",
       "        text-align: right;\n",
       "    }\n",
       "</style>\n",
       "<table border=\"1\" class=\"dataframe\">\n",
       "  <thead>\n",
       "    <tr style=\"text-align: right;\">\n",
       "      <th></th>\n",
       "      <th>column_name</th>\n",
       "      <th>Total</th>\n",
       "      <th>Missing</th>\n",
       "      <th>Missing(%)</th>\n",
       "      <th>Types</th>\n",
       "    </tr>\n",
       "  </thead>\n",
       "  <tbody>\n",
       "    <tr>\n",
       "      <th>0</th>\n",
       "      <td>isrc</td>\n",
       "      <td>116261</td>\n",
       "      <td>6306</td>\n",
       "      <td>5.144941</td>\n",
       "      <td>object</td>\n",
       "    </tr>\n",
       "    <tr>\n",
       "      <th>1</th>\n",
       "      <td>artist</td>\n",
       "      <td>122539</td>\n",
       "      <td>28</td>\n",
       "      <td>0.022845</td>\n",
       "      <td>object</td>\n",
       "    </tr>\n",
       "    <tr>\n",
       "      <th>2</th>\n",
       "      <td>country</td>\n",
       "      <td>122562</td>\n",
       "      <td>5</td>\n",
       "      <td>0.004079</td>\n",
       "      <td>object</td>\n",
       "    </tr>\n",
       "    <tr>\n",
       "      <th>3</th>\n",
       "      <td>city</td>\n",
       "      <td>122562</td>\n",
       "      <td>5</td>\n",
       "      <td>0.004079</td>\n",
       "      <td>object</td>\n",
       "    </tr>\n",
       "    <tr>\n",
       "      <th>4</th>\n",
       "      <td>album</td>\n",
       "      <td>122563</td>\n",
       "      <td>4</td>\n",
       "      <td>0.003264</td>\n",
       "      <td>object</td>\n",
       "    </tr>\n",
       "    <tr>\n",
       "      <th>5</th>\n",
       "      <td>track</td>\n",
       "      <td>122563</td>\n",
       "      <td>4</td>\n",
       "      <td>0.003264</td>\n",
       "      <td>object</td>\n",
       "    </tr>\n",
       "    <tr>\n",
       "      <th>6</th>\n",
       "      <td>event</td>\n",
       "      <td>122567</td>\n",
       "      <td>0</td>\n",
       "      <td>0.000000</td>\n",
       "      <td>object</td>\n",
       "    </tr>\n",
       "    <tr>\n",
       "      <th>7</th>\n",
       "      <td>date</td>\n",
       "      <td>122567</td>\n",
       "      <td>0</td>\n",
       "      <td>0.000000</td>\n",
       "      <td>object</td>\n",
       "    </tr>\n",
       "    <tr>\n",
       "      <th>8</th>\n",
       "      <td>linkid</td>\n",
       "      <td>122567</td>\n",
       "      <td>0</td>\n",
       "      <td>0.000000</td>\n",
       "      <td>object</td>\n",
       "    </tr>\n",
       "  </tbody>\n",
       "</table>\n",
       "</div>"
      ],
      "text/plain": [
       "  column_name   Total  Missing  Missing(%)   Types\n",
       "0        isrc  116261     6306    5.144941  object\n",
       "1      artist  122539       28    0.022845  object\n",
       "2     country  122562        5    0.004079  object\n",
       "3        city  122562        5    0.004079  object\n",
       "4       album  122563        4    0.003264  object\n",
       "5       track  122563        4    0.003264  object\n",
       "6       event  122567        0    0.000000  object\n",
       "7        date  122567        0    0.000000  object\n",
       "8      linkid  122567        0    0.000000  object"
      ]
     },
     "execution_count": 44,
     "metadata": {},
     "output_type": "execute_result"
    }
   ],
   "source": [
    "missing_data(df)"
   ]
  },
  {
   "cell_type": "code",
   "execution_count": 45,
   "id": "23bc4a32",
   "metadata": {},
   "outputs": [],
   "source": [
    "# nunique\n",
    "def nunique(df):\n",
    "    df1 = pd.DataFrame(df.count()).reset_index().rename({'index':'Variable Name',0:'Count'},axis=1)\n",
    "    df2 = pd.DataFrame(df.nunique()).reset_index().rename({'index':'Variable Name',0:'Unique Count'},axis=1)\n",
    "    return(pd.merge(df1,df2,on='Variable Name'))"
   ]
  },
  {
   "cell_type": "code",
   "execution_count": 46,
   "id": "8de1e244",
   "metadata": {},
   "outputs": [
    {
     "data": {
      "text/html": [
       "<div>\n",
       "<style scoped>\n",
       "    .dataframe tbody tr th:only-of-type {\n",
       "        vertical-align: middle;\n",
       "    }\n",
       "\n",
       "    .dataframe tbody tr th {\n",
       "        vertical-align: top;\n",
       "    }\n",
       "\n",
       "    .dataframe thead th {\n",
       "        text-align: right;\n",
       "    }\n",
       "</style>\n",
       "<table border=\"1\" class=\"dataframe\">\n",
       "  <thead>\n",
       "    <tr style=\"text-align: right;\">\n",
       "      <th></th>\n",
       "      <th>Variable Name</th>\n",
       "      <th>Count</th>\n",
       "      <th>Unique Count</th>\n",
       "    </tr>\n",
       "  </thead>\n",
       "  <tbody>\n",
       "    <tr>\n",
       "      <th>0</th>\n",
       "      <td>event</td>\n",
       "      <td>122567</td>\n",
       "      <td>3</td>\n",
       "    </tr>\n",
       "    <tr>\n",
       "      <th>1</th>\n",
       "      <td>date</td>\n",
       "      <td>122567</td>\n",
       "      <td>7</td>\n",
       "    </tr>\n",
       "    <tr>\n",
       "      <th>2</th>\n",
       "      <td>country</td>\n",
       "      <td>122562</td>\n",
       "      <td>211</td>\n",
       "    </tr>\n",
       "    <tr>\n",
       "      <th>3</th>\n",
       "      <td>city</td>\n",
       "      <td>122562</td>\n",
       "      <td>11993</td>\n",
       "    </tr>\n",
       "    <tr>\n",
       "      <th>4</th>\n",
       "      <td>artist</td>\n",
       "      <td>122539</td>\n",
       "      <td>2419</td>\n",
       "    </tr>\n",
       "    <tr>\n",
       "      <th>5</th>\n",
       "      <td>album</td>\n",
       "      <td>122563</td>\n",
       "      <td>3254</td>\n",
       "    </tr>\n",
       "    <tr>\n",
       "      <th>6</th>\n",
       "      <td>track</td>\n",
       "      <td>122563</td>\n",
       "      <td>3562</td>\n",
       "    </tr>\n",
       "    <tr>\n",
       "      <th>7</th>\n",
       "      <td>isrc</td>\n",
       "      <td>116261</td>\n",
       "      <td>709</td>\n",
       "    </tr>\n",
       "    <tr>\n",
       "      <th>8</th>\n",
       "      <td>linkid</td>\n",
       "      <td>122567</td>\n",
       "      <td>3839</td>\n",
       "    </tr>\n",
       "  </tbody>\n",
       "</table>\n",
       "</div>"
      ],
      "text/plain": [
       "  Variable Name   Count  Unique Count\n",
       "0         event  122567             3\n",
       "1          date  122567             7\n",
       "2       country  122562           211\n",
       "3          city  122562         11993\n",
       "4        artist  122539          2419\n",
       "5         album  122563          3254\n",
       "6         track  122563          3562\n",
       "7          isrc  116261           709\n",
       "8        linkid  122567          3839"
      ]
     },
     "execution_count": 46,
     "metadata": {},
     "output_type": "execute_result"
    }
   ],
   "source": [
    "nunique(df)"
   ]
  },
  {
   "cell_type": "code",
   "execution_count": 47,
   "id": "545e151a",
   "metadata": {},
   "outputs": [],
   "source": [
    "# check for variance\n",
    "def var(df):\n",
    "    return(pd.DataFrame(np.var(df,axis=0)).reset_index().rename({'index':'Variable Name',0:'Variance'},axis=1).round(3))"
   ]
  },
  {
   "cell_type": "code",
   "execution_count": 48,
   "id": "46046e36",
   "metadata": {},
   "outputs": [
    {
     "data": {
      "text/html": [
       "<div>\n",
       "<style scoped>\n",
       "    .dataframe tbody tr th:only-of-type {\n",
       "        vertical-align: middle;\n",
       "    }\n",
       "\n",
       "    .dataframe tbody tr th {\n",
       "        vertical-align: top;\n",
       "    }\n",
       "\n",
       "    .dataframe thead th {\n",
       "        text-align: right;\n",
       "    }\n",
       "</style>\n",
       "<table border=\"1\" class=\"dataframe\">\n",
       "  <thead>\n",
       "    <tr style=\"text-align: right;\">\n",
       "      <th></th>\n",
       "      <th>Variable Name</th>\n",
       "      <th>Variance</th>\n",
       "    </tr>\n",
       "  </thead>\n",
       "  <tbody>\n",
       "  </tbody>\n",
       "</table>\n",
       "</div>"
      ],
      "text/plain": [
       "Empty DataFrame\n",
       "Columns: [Variable Name, Variance]\n",
       "Index: []"
      ]
     },
     "execution_count": 48,
     "metadata": {},
     "output_type": "execute_result"
    }
   ],
   "source": [
    "var(df)"
   ]
  },
  {
   "cell_type": "markdown",
   "id": "ca3102ad",
   "metadata": {},
   "source": [
    "There are no variance because all variables are categorical"
   ]
  },
  {
   "cell_type": "code",
   "execution_count": 49,
   "id": "d4ffb790",
   "metadata": {},
   "outputs": [],
   "source": [
    "# description of data\n",
    "def describe(df):\n",
    "    return(df.describe(include='all',percentiles=[.01,.1,.2,.3,.4,.5,.6,.7,.8,.9,.99]).round(2).T.reset_index().rename({'index':'Variable Name'},axis=1))"
   ]
  },
  {
   "cell_type": "code",
   "execution_count": 50,
   "id": "d4e44d82",
   "metadata": {},
   "outputs": [
    {
     "data": {
      "text/html": [
       "<div>\n",
       "<style scoped>\n",
       "    .dataframe tbody tr th:only-of-type {\n",
       "        vertical-align: middle;\n",
       "    }\n",
       "\n",
       "    .dataframe tbody tr th {\n",
       "        vertical-align: top;\n",
       "    }\n",
       "\n",
       "    .dataframe thead th {\n",
       "        text-align: right;\n",
       "    }\n",
       "</style>\n",
       "<table border=\"1\" class=\"dataframe\">\n",
       "  <thead>\n",
       "    <tr style=\"text-align: right;\">\n",
       "      <th></th>\n",
       "      <th>Variable Name</th>\n",
       "      <th>count</th>\n",
       "      <th>unique</th>\n",
       "      <th>top</th>\n",
       "      <th>freq</th>\n",
       "    </tr>\n",
       "  </thead>\n",
       "  <tbody>\n",
       "    <tr>\n",
       "      <th>0</th>\n",
       "      <td>event</td>\n",
       "      <td>122567</td>\n",
       "      <td>3</td>\n",
       "      <td>pageview</td>\n",
       "      <td>73360</td>\n",
       "    </tr>\n",
       "    <tr>\n",
       "      <th>1</th>\n",
       "      <td>date</td>\n",
       "      <td>122567</td>\n",
       "      <td>7</td>\n",
       "      <td>2021-08-19</td>\n",
       "      <td>21156</td>\n",
       "    </tr>\n",
       "    <tr>\n",
       "      <th>2</th>\n",
       "      <td>country</td>\n",
       "      <td>122562</td>\n",
       "      <td>211</td>\n",
       "      <td>United States</td>\n",
       "      <td>28664</td>\n",
       "    </tr>\n",
       "    <tr>\n",
       "      <th>3</th>\n",
       "      <td>city</td>\n",
       "      <td>122562</td>\n",
       "      <td>11993</td>\n",
       "      <td>Unknown</td>\n",
       "      <td>8797</td>\n",
       "    </tr>\n",
       "    <tr>\n",
       "      <th>4</th>\n",
       "      <td>artist</td>\n",
       "      <td>122539</td>\n",
       "      <td>2419</td>\n",
       "      <td>Tesher</td>\n",
       "      <td>8288</td>\n",
       "    </tr>\n",
       "    <tr>\n",
       "      <th>5</th>\n",
       "      <td>album</td>\n",
       "      <td>122563</td>\n",
       "      <td>3254</td>\n",
       "      <td>Jalebi Baby</td>\n",
       "      <td>8288</td>\n",
       "    </tr>\n",
       "    <tr>\n",
       "      <th>6</th>\n",
       "      <td>track</td>\n",
       "      <td>122563</td>\n",
       "      <td>3562</td>\n",
       "      <td>Jalebi Baby</td>\n",
       "      <td>8288</td>\n",
       "    </tr>\n",
       "    <tr>\n",
       "      <th>7</th>\n",
       "      <td>isrc</td>\n",
       "      <td>116261</td>\n",
       "      <td>709</td>\n",
       "      <td>QZNWQ2070741</td>\n",
       "      <td>8288</td>\n",
       "    </tr>\n",
       "    <tr>\n",
       "      <th>8</th>\n",
       "      <td>linkid</td>\n",
       "      <td>122567</td>\n",
       "      <td>3839</td>\n",
       "      <td>2d896d31-97b6-4869-967b-1c5fb9cd4bb8</td>\n",
       "      <td>8288</td>\n",
       "    </tr>\n",
       "  </tbody>\n",
       "</table>\n",
       "</div>"
      ],
      "text/plain": [
       "  Variable Name   count unique                                   top   freq\n",
       "0         event  122567      3                              pageview  73360\n",
       "1          date  122567      7                            2021-08-19  21156\n",
       "2       country  122562    211                         United States  28664\n",
       "3          city  122562  11993                               Unknown   8797\n",
       "4        artist  122539   2419                                Tesher   8288\n",
       "5         album  122563   3254                           Jalebi Baby   8288\n",
       "6         track  122563   3562                           Jalebi Baby   8288\n",
       "7          isrc  116261    709                          QZNWQ2070741   8288\n",
       "8        linkid  122567   3839  2d896d31-97b6-4869-967b-1c5fb9cd4bb8   8288"
      ]
     },
     "execution_count": 50,
     "metadata": {},
     "output_type": "execute_result"
    }
   ],
   "source": [
    "describe(df)"
   ]
  },
  {
   "cell_type": "code",
   "execution_count": 51,
   "id": "33b83d92",
   "metadata": {},
   "outputs": [],
   "source": [
    "# value counts\n",
    "def valcount(df):\n",
    "    df1=pd.DataFrame(df.apply(lambda x:x.astype(str).value_counts()[:6]).T.stack()).reset_index().rename({'level_0':'Variable Name','level_1':'Value',0:'Value Counts'},axis=1)\n",
    "    df2=pd.DataFrame(df.apply(lambda x:x.astype(str).value_counts()[:6]).mul(100).round(2).T.stack()).reset_index().rename({'level_0':'Variable Name','level_1':'Value',0:'Value Counts'},axis=1)\n",
    "    return(pd.merge(df1,df2,on=['Variable Name','Value']))"
   ]
  },
  {
   "cell_type": "code",
   "execution_count": 52,
   "id": "c3cbba2b",
   "metadata": {},
   "outputs": [
    {
     "data": {
      "text/html": [
       "<div>\n",
       "<style scoped>\n",
       "    .dataframe tbody tr th:only-of-type {\n",
       "        vertical-align: middle;\n",
       "    }\n",
       "\n",
       "    .dataframe tbody tr th {\n",
       "        vertical-align: top;\n",
       "    }\n",
       "\n",
       "    .dataframe thead th {\n",
       "        text-align: right;\n",
       "    }\n",
       "</style>\n",
       "<table border=\"1\" class=\"dataframe\">\n",
       "  <thead>\n",
       "    <tr style=\"text-align: right;\">\n",
       "      <th></th>\n",
       "      <th>Variable Name</th>\n",
       "      <th>Value</th>\n",
       "      <th>Value Counts_x</th>\n",
       "      <th>Value Counts_y</th>\n",
       "    </tr>\n",
       "  </thead>\n",
       "  <tbody>\n",
       "    <tr>\n",
       "      <th>0</th>\n",
       "      <td>event</td>\n",
       "      <td>click</td>\n",
       "      <td>32499.0</td>\n",
       "      <td>3249900.0</td>\n",
       "    </tr>\n",
       "    <tr>\n",
       "      <th>1</th>\n",
       "      <td>event</td>\n",
       "      <td>pageview</td>\n",
       "      <td>73360.0</td>\n",
       "      <td>7336000.0</td>\n",
       "    </tr>\n",
       "    <tr>\n",
       "      <th>2</th>\n",
       "      <td>event</td>\n",
       "      <td>preview</td>\n",
       "      <td>16708.0</td>\n",
       "      <td>1670800.0</td>\n",
       "    </tr>\n",
       "    <tr>\n",
       "      <th>3</th>\n",
       "      <td>date</td>\n",
       "      <td>2021-08-19</td>\n",
       "      <td>21156.0</td>\n",
       "      <td>2115600.0</td>\n",
       "    </tr>\n",
       "    <tr>\n",
       "      <th>4</th>\n",
       "      <td>date</td>\n",
       "      <td>2021-08-20</td>\n",
       "      <td>18536.0</td>\n",
       "      <td>1853600.0</td>\n",
       "    </tr>\n",
       "    <tr>\n",
       "      <th>5</th>\n",
       "      <td>date</td>\n",
       "      <td>2021-08-21</td>\n",
       "      <td>16701.0</td>\n",
       "      <td>1670100.0</td>\n",
       "    </tr>\n",
       "    <tr>\n",
       "      <th>6</th>\n",
       "      <td>date</td>\n",
       "      <td>2021-08-22</td>\n",
       "      <td>16927.0</td>\n",
       "      <td>1692700.0</td>\n",
       "    </tr>\n",
       "    <tr>\n",
       "      <th>7</th>\n",
       "      <td>date</td>\n",
       "      <td>2021-08-23</td>\n",
       "      <td>16415.0</td>\n",
       "      <td>1641500.0</td>\n",
       "    </tr>\n",
       "    <tr>\n",
       "      <th>8</th>\n",
       "      <td>date</td>\n",
       "      <td>2021-08-25</td>\n",
       "      <td>16541.0</td>\n",
       "      <td>1654100.0</td>\n",
       "    </tr>\n",
       "    <tr>\n",
       "      <th>9</th>\n",
       "      <td>country</td>\n",
       "      <td>France</td>\n",
       "      <td>10565.0</td>\n",
       "      <td>1056500.0</td>\n",
       "    </tr>\n",
       "    <tr>\n",
       "      <th>10</th>\n",
       "      <td>country</td>\n",
       "      <td>Germany</td>\n",
       "      <td>4017.0</td>\n",
       "      <td>401700.0</td>\n",
       "    </tr>\n",
       "    <tr>\n",
       "      <th>11</th>\n",
       "      <td>country</td>\n",
       "      <td>India</td>\n",
       "      <td>18689.0</td>\n",
       "      <td>1868900.0</td>\n",
       "    </tr>\n",
       "    <tr>\n",
       "      <th>12</th>\n",
       "      <td>country</td>\n",
       "      <td>Saudi Arabia</td>\n",
       "      <td>7682.0</td>\n",
       "      <td>768200.0</td>\n",
       "    </tr>\n",
       "    <tr>\n",
       "      <th>13</th>\n",
       "      <td>country</td>\n",
       "      <td>United Kingdom</td>\n",
       "      <td>5095.0</td>\n",
       "      <td>509500.0</td>\n",
       "    </tr>\n",
       "    <tr>\n",
       "      <th>14</th>\n",
       "      <td>country</td>\n",
       "      <td>United States</td>\n",
       "      <td>28664.0</td>\n",
       "      <td>2866400.0</td>\n",
       "    </tr>\n",
       "    <tr>\n",
       "      <th>15</th>\n",
       "      <td>city</td>\n",
       "      <td>Dammam</td>\n",
       "      <td>1002.0</td>\n",
       "      <td>100200.0</td>\n",
       "    </tr>\n",
       "    <tr>\n",
       "      <th>16</th>\n",
       "      <td>city</td>\n",
       "      <td>Delhi</td>\n",
       "      <td>884.0</td>\n",
       "      <td>88400.0</td>\n",
       "    </tr>\n",
       "    <tr>\n",
       "      <th>17</th>\n",
       "      <td>city</td>\n",
       "      <td>Hyderabad</td>\n",
       "      <td>1088.0</td>\n",
       "      <td>108800.0</td>\n",
       "    </tr>\n",
       "    <tr>\n",
       "      <th>18</th>\n",
       "      <td>city</td>\n",
       "      <td>Jeddah</td>\n",
       "      <td>2497.0</td>\n",
       "      <td>249700.0</td>\n",
       "    </tr>\n",
       "    <tr>\n",
       "      <th>19</th>\n",
       "      <td>city</td>\n",
       "      <td>Riyadh</td>\n",
       "      <td>2232.0</td>\n",
       "      <td>223200.0</td>\n",
       "    </tr>\n",
       "    <tr>\n",
       "      <th>20</th>\n",
       "      <td>city</td>\n",
       "      <td>Unknown</td>\n",
       "      <td>8797.0</td>\n",
       "      <td>879700.0</td>\n",
       "    </tr>\n",
       "    <tr>\n",
       "      <th>21</th>\n",
       "      <td>artist</td>\n",
       "      <td>Anne-Marie</td>\n",
       "      <td>4029.0</td>\n",
       "      <td>402900.0</td>\n",
       "    </tr>\n",
       "    <tr>\n",
       "      <th>22</th>\n",
       "      <td>artist</td>\n",
       "      <td>Olivia Rodrigo</td>\n",
       "      <td>3037.0</td>\n",
       "      <td>303700.0</td>\n",
       "    </tr>\n",
       "    <tr>\n",
       "      <th>23</th>\n",
       "      <td>artist</td>\n",
       "      <td>Roddy Ricch</td>\n",
       "      <td>3107.0</td>\n",
       "      <td>310700.0</td>\n",
       "    </tr>\n",
       "    <tr>\n",
       "      <th>24</th>\n",
       "      <td>artist</td>\n",
       "      <td>Surf Mesa, Emilee</td>\n",
       "      <td>2956.0</td>\n",
       "      <td>295600.0</td>\n",
       "    </tr>\n",
       "    <tr>\n",
       "      <th>25</th>\n",
       "      <td>artist</td>\n",
       "      <td>Tesher</td>\n",
       "      <td>8288.0</td>\n",
       "      <td>828800.0</td>\n",
       "    </tr>\n",
       "    <tr>\n",
       "      <th>26</th>\n",
       "      <td>artist</td>\n",
       "      <td>Tundra Beats</td>\n",
       "      <td>3951.0</td>\n",
       "      <td>395100.0</td>\n",
       "    </tr>\n",
       "    <tr>\n",
       "      <th>27</th>\n",
       "      <td>album</td>\n",
       "      <td>Beautiful</td>\n",
       "      <td>4028.0</td>\n",
       "      <td>402800.0</td>\n",
       "    </tr>\n",
       "    <tr>\n",
       "      <th>28</th>\n",
       "      <td>album</td>\n",
       "      <td>Beautiful Day</td>\n",
       "      <td>3950.0</td>\n",
       "      <td>395000.0</td>\n",
       "    </tr>\n",
       "    <tr>\n",
       "      <th>29</th>\n",
       "      <td>album</td>\n",
       "      <td>Jalebi Baby</td>\n",
       "      <td>8288.0</td>\n",
       "      <td>828800.0</td>\n",
       "    </tr>\n",
       "    <tr>\n",
       "      <th>30</th>\n",
       "      <td>album</td>\n",
       "      <td>Late At Night</td>\n",
       "      <td>3059.0</td>\n",
       "      <td>305900.0</td>\n",
       "    </tr>\n",
       "    <tr>\n",
       "      <th>31</th>\n",
       "      <td>album</td>\n",
       "      <td>SOUR</td>\n",
       "      <td>2878.0</td>\n",
       "      <td>287800.0</td>\n",
       "    </tr>\n",
       "    <tr>\n",
       "      <th>32</th>\n",
       "      <td>album</td>\n",
       "      <td>ily (i love you baby) (feat. Emilee)</td>\n",
       "      <td>2956.0</td>\n",
       "      <td>295600.0</td>\n",
       "    </tr>\n",
       "    <tr>\n",
       "      <th>33</th>\n",
       "      <td>track</td>\n",
       "      <td>Beautiful</td>\n",
       "      <td>4037.0</td>\n",
       "      <td>403700.0</td>\n",
       "    </tr>\n",
       "    <tr>\n",
       "      <th>34</th>\n",
       "      <td>track</td>\n",
       "      <td>Beautiful Day</td>\n",
       "      <td>3951.0</td>\n",
       "      <td>395100.0</td>\n",
       "    </tr>\n",
       "    <tr>\n",
       "      <th>35</th>\n",
       "      <td>track</td>\n",
       "      <td>Calabria (feat. Lujavo &amp; Nito-Onna)</td>\n",
       "      <td>2865.0</td>\n",
       "      <td>286500.0</td>\n",
       "    </tr>\n",
       "    <tr>\n",
       "      <th>36</th>\n",
       "      <td>track</td>\n",
       "      <td>Jalebi Baby</td>\n",
       "      <td>8288.0</td>\n",
       "      <td>828800.0</td>\n",
       "    </tr>\n",
       "    <tr>\n",
       "      <th>37</th>\n",
       "      <td>track</td>\n",
       "      <td>Late At Night</td>\n",
       "      <td>3059.0</td>\n",
       "      <td>305900.0</td>\n",
       "    </tr>\n",
       "    <tr>\n",
       "      <th>38</th>\n",
       "      <td>track</td>\n",
       "      <td>ily (i love you baby) (feat. Emilee)</td>\n",
       "      <td>2956.0</td>\n",
       "      <td>295600.0</td>\n",
       "    </tr>\n",
       "    <tr>\n",
       "      <th>39</th>\n",
       "      <td>isrc</td>\n",
       "      <td>GBAHS2100225</td>\n",
       "      <td>4028.0</td>\n",
       "      <td>402800.0</td>\n",
       "    </tr>\n",
       "    <tr>\n",
       "      <th>40</th>\n",
       "      <td>isrc</td>\n",
       "      <td>QZHN92194591</td>\n",
       "      <td>3950.0</td>\n",
       "      <td>395000.0</td>\n",
       "    </tr>\n",
       "    <tr>\n",
       "      <th>41</th>\n",
       "      <td>isrc</td>\n",
       "      <td>QZJRC1945204</td>\n",
       "      <td>2947.0</td>\n",
       "      <td>294700.0</td>\n",
       "    </tr>\n",
       "    <tr>\n",
       "      <th>42</th>\n",
       "      <td>isrc</td>\n",
       "      <td>QZNWQ2070741</td>\n",
       "      <td>8288.0</td>\n",
       "      <td>828800.0</td>\n",
       "    </tr>\n",
       "    <tr>\n",
       "      <th>43</th>\n",
       "      <td>isrc</td>\n",
       "      <td>USAT22102236</td>\n",
       "      <td>3059.0</td>\n",
       "      <td>305900.0</td>\n",
       "    </tr>\n",
       "    <tr>\n",
       "      <th>44</th>\n",
       "      <td>isrc</td>\n",
       "      <td>nan</td>\n",
       "      <td>6306.0</td>\n",
       "      <td>630600.0</td>\n",
       "    </tr>\n",
       "    <tr>\n",
       "      <th>45</th>\n",
       "      <td>linkid</td>\n",
       "      <td>23199824-9cf5-4b98-942a-34965c3b0cc2</td>\n",
       "      <td>2675.0</td>\n",
       "      <td>267500.0</td>\n",
       "    </tr>\n",
       "    <tr>\n",
       "      <th>46</th>\n",
       "      <td>linkid</td>\n",
       "      <td>2d896d31-97b6-4869-967b-1c5fb9cd4bb8</td>\n",
       "      <td>8288.0</td>\n",
       "      <td>828800.0</td>\n",
       "    </tr>\n",
       "    <tr>\n",
       "      <th>47</th>\n",
       "      <td>linkid</td>\n",
       "      <td>522da5cc-8177-4140-97a7-a84fdb4caf1c</td>\n",
       "      <td>3786.0</td>\n",
       "      <td>378600.0</td>\n",
       "    </tr>\n",
       "    <tr>\n",
       "      <th>48</th>\n",
       "      <td>linkid</td>\n",
       "      <td>681d888a-59ce-4acb-b7c5-95dab0c063d9</td>\n",
       "      <td>2865.0</td>\n",
       "      <td>286500.0</td>\n",
       "    </tr>\n",
       "    <tr>\n",
       "      <th>49</th>\n",
       "      <td>linkid</td>\n",
       "      <td>a82e72d8-523f-43ab-9fd0-992605d54b4e</td>\n",
       "      <td>3059.0</td>\n",
       "      <td>305900.0</td>\n",
       "    </tr>\n",
       "    <tr>\n",
       "      <th>50</th>\n",
       "      <td>linkid</td>\n",
       "      <td>e849515b-929d-44c8-a505-e7622f1827e9</td>\n",
       "      <td>3950.0</td>\n",
       "      <td>395000.0</td>\n",
       "    </tr>\n",
       "  </tbody>\n",
       "</table>\n",
       "</div>"
      ],
      "text/plain": [
       "   Variable Name                                 Value  Value Counts_x  \\\n",
       "0          event                                 click         32499.0   \n",
       "1          event                              pageview         73360.0   \n",
       "2          event                               preview         16708.0   \n",
       "3           date                            2021-08-19         21156.0   \n",
       "4           date                            2021-08-20         18536.0   \n",
       "5           date                            2021-08-21         16701.0   \n",
       "6           date                            2021-08-22         16927.0   \n",
       "7           date                            2021-08-23         16415.0   \n",
       "8           date                            2021-08-25         16541.0   \n",
       "9        country                                France         10565.0   \n",
       "10       country                               Germany          4017.0   \n",
       "11       country                                 India         18689.0   \n",
       "12       country                          Saudi Arabia          7682.0   \n",
       "13       country                        United Kingdom          5095.0   \n",
       "14       country                         United States         28664.0   \n",
       "15          city                                Dammam          1002.0   \n",
       "16          city                                 Delhi           884.0   \n",
       "17          city                             Hyderabad          1088.0   \n",
       "18          city                                Jeddah          2497.0   \n",
       "19          city                                Riyadh          2232.0   \n",
       "20          city                               Unknown          8797.0   \n",
       "21        artist                            Anne-Marie          4029.0   \n",
       "22        artist                        Olivia Rodrigo          3037.0   \n",
       "23        artist                           Roddy Ricch          3107.0   \n",
       "24        artist                     Surf Mesa, Emilee          2956.0   \n",
       "25        artist                                Tesher          8288.0   \n",
       "26        artist                          Tundra Beats          3951.0   \n",
       "27         album                             Beautiful          4028.0   \n",
       "28         album                         Beautiful Day          3950.0   \n",
       "29         album                           Jalebi Baby          8288.0   \n",
       "30         album                         Late At Night          3059.0   \n",
       "31         album                                  SOUR          2878.0   \n",
       "32         album  ily (i love you baby) (feat. Emilee)          2956.0   \n",
       "33         track                             Beautiful          4037.0   \n",
       "34         track                         Beautiful Day          3951.0   \n",
       "35         track   Calabria (feat. Lujavo & Nito-Onna)          2865.0   \n",
       "36         track                           Jalebi Baby          8288.0   \n",
       "37         track                         Late At Night          3059.0   \n",
       "38         track  ily (i love you baby) (feat. Emilee)          2956.0   \n",
       "39          isrc                          GBAHS2100225          4028.0   \n",
       "40          isrc                          QZHN92194591          3950.0   \n",
       "41          isrc                          QZJRC1945204          2947.0   \n",
       "42          isrc                          QZNWQ2070741          8288.0   \n",
       "43          isrc                          USAT22102236          3059.0   \n",
       "44          isrc                                   nan          6306.0   \n",
       "45        linkid  23199824-9cf5-4b98-942a-34965c3b0cc2          2675.0   \n",
       "46        linkid  2d896d31-97b6-4869-967b-1c5fb9cd4bb8          8288.0   \n",
       "47        linkid  522da5cc-8177-4140-97a7-a84fdb4caf1c          3786.0   \n",
       "48        linkid  681d888a-59ce-4acb-b7c5-95dab0c063d9          2865.0   \n",
       "49        linkid  a82e72d8-523f-43ab-9fd0-992605d54b4e          3059.0   \n",
       "50        linkid  e849515b-929d-44c8-a505-e7622f1827e9          3950.0   \n",
       "\n",
       "    Value Counts_y  \n",
       "0        3249900.0  \n",
       "1        7336000.0  \n",
       "2        1670800.0  \n",
       "3        2115600.0  \n",
       "4        1853600.0  \n",
       "5        1670100.0  \n",
       "6        1692700.0  \n",
       "7        1641500.0  \n",
       "8        1654100.0  \n",
       "9        1056500.0  \n",
       "10        401700.0  \n",
       "11       1868900.0  \n",
       "12        768200.0  \n",
       "13        509500.0  \n",
       "14       2866400.0  \n",
       "15        100200.0  \n",
       "16         88400.0  \n",
       "17        108800.0  \n",
       "18        249700.0  \n",
       "19        223200.0  \n",
       "20        879700.0  \n",
       "21        402900.0  \n",
       "22        303700.0  \n",
       "23        310700.0  \n",
       "24        295600.0  \n",
       "25        828800.0  \n",
       "26        395100.0  \n",
       "27        402800.0  \n",
       "28        395000.0  \n",
       "29        828800.0  \n",
       "30        305900.0  \n",
       "31        287800.0  \n",
       "32        295600.0  \n",
       "33        403700.0  \n",
       "34        395100.0  \n",
       "35        286500.0  \n",
       "36        828800.0  \n",
       "37        305900.0  \n",
       "38        295600.0  \n",
       "39        402800.0  \n",
       "40        395000.0  \n",
       "41        294700.0  \n",
       "42        828800.0  \n",
       "43        305900.0  \n",
       "44        630600.0  \n",
       "45        267500.0  \n",
       "46        828800.0  \n",
       "47        378600.0  \n",
       "48        286500.0  \n",
       "49        305900.0  \n",
       "50        395000.0  "
      ]
     },
     "execution_count": 52,
     "metadata": {},
     "output_type": "execute_result"
    }
   ],
   "source": [
    "valcount(df)"
   ]
  },
  {
   "cell_type": "code",
   "execution_count": 53,
   "id": "56c4775b",
   "metadata": {},
   "outputs": [],
   "source": [
    "# Univeriate - Numerical\n",
    "\n",
    "def UnivNum(df):\n",
    "    if df.select_dtypes(include='number').shape[1] <= 10:\n",
    "        df.select_dtypes(include='number').hist(figsize=(10,5),bins=30,edgecolor='black',grid=False,color='royalblue')\n",
    "        plt.show();\n",
    "    else:\n",
    "        df.select_dtypes(include='number').hist(figsize=(35,20),bins=30,edgecolor='black',grid=False,color='royalblue')\n",
    "        plt.show();"
   ]
  },
  {
   "cell_type": "code",
   "execution_count": 54,
   "id": "a88a9e10",
   "metadata": {},
   "outputs": [],
   "source": [
    "# Univeriate - Categorical\n",
    "\n",
    "def UnivCat(df):\n",
    "    name=[x for x in globals() if globals()[x] is df][0]\n",
    "    print(name)\n",
    "    print('\\n')\n",
    "    df=df.select_dtypes(include='object')\n",
    "    for col in df.columns:\n",
    "        print(col)\n",
    "        df[col].value_counts(dropna=False)[:15].plot(kind='bar',figsize=(10,5))\n",
    "        plt.xticks(rotation=45)\n",
    "        plt.show();"
   ]
  },
  {
   "cell_type": "code",
   "execution_count": 55,
   "id": "2f7fdf85",
   "metadata": {
    "scrolled": true
   },
   "outputs": [
    {
     "name": "stdout",
     "output_type": "stream",
     "text": [
      "df\n",
      "\n",
      "\n",
      "event\n"
     ]
    },
    {
     "data": {
      "image/png": "[encoded data removed]",
      "text/plain": [
       "<Figure size 720x360 with 1 Axes>"
      ]
     },
     "metadata": {
      "needs_background": "light"
     },
     "output_type": "display_data"
    },
    {
     "name": "stdout",
     "output_type": "stream",
     "text": [
      "date\n"
     ]
    },
    {
     "data": {
      "image/png": "[encoded data removed]",
      "text/plain": [
       "<Figure size 720x360 with 1 Axes>"
      ]
     },
     "metadata": {
      "needs_background": "light"
     },
     "output_type": "display_data"
    },
    {
     "name": "stdout",
     "output_type": "stream",
     "text": [
      "country\n"
     ]
    },
    {
     "data": {
      "image/png": "[encoded data removed]",
      "text/plain": [
       "<Figure size 720x360 with 1 Axes>"
      ]
     },
     "metadata": {
      "needs_background": "light"
     },
     "output_type": "display_data"
    },
    {
     "name": "stdout",
     "output_type": "stream",
     "text": [
      "city\n"
     ]
    },
    {
     "data": {
      "image/png": "[encoded data removed]",
      "text/plain": [
       "<Figure size 720x360 with 1 Axes>"
      ]
     },
     "metadata": {
      "needs_background": "light"
     },
     "output_type": "display_data"
    },
    {
     "name": "stdout",
     "output_type": "stream",
     "text": [
      "artist\n"
     ]
    },
    {
     "data": {
      "image/png": "[encoded data removed]",
      "text/plain": [
       "<Figure size 720x360 with 1 Axes>"
      ]
     },
     "metadata": {
      "needs_background": "light"
     },
     "output_type": "display_data"
    },
    {
     "name": "stdout",
     "output_type": "stream",
     "text": [
      "album\n"
     ]
    },
    {
     "data": {
      "image/png": "[encoded data removed]",
      "text/plain": [
       "<Figure size 720x360 with 1 Axes>"
      ]
     },
     "metadata": {
      "needs_background": "light"
     },
     "output_type": "display_data"
    },
    {
     "name": "stdout",
     "output_type": "stream",
     "text": [
      "track\n"
     ]
    },
    {
     "data": {
      "image/png": "[encoded data removed]",
      "text/plain": [
       "<Figure size 720x360 with 1 Axes>"
      ]
     },
     "metadata": {
      "needs_background": "light"
     },
     "output_type": "display_data"
    },
    {
     "name": "stdout",
     "output_type": "stream",
     "text": [
      "isrc\n"
     ]
    },
    {
     "data": {
      "image/png": "[encoded data removed]",
      "text/plain": [
       "<Figure size 720x360 with 1 Axes>"
      ]
     },
     "metadata": {
      "needs_background": "light"
     },
     "output_type": "display_data"
    },
    {
     "name": "stdout",
     "output_type": "stream",
     "text": [
      "linkid\n"
     ]
    },
    {
     "data": {
      "image/png": "[encoded data removed]",
      "text/plain": [
       "<Figure size 720x360 with 1 Axes>"
      ]
     },
     "metadata": {
      "needs_background": "light"
     },
     "output_type": "display_data"
    }
   ],
   "source": [
    "UnivCat(df)"
   ]
  },
  {
   "cell_type": "markdown",
   "id": "09ddf9c3",
   "metadata": {},
   "source": [
    "The above graphs gives us a better understanding about the data on variable level."
   ]
  },
  {
   "cell_type": "code",
   "execution_count": null,
   "id": "d28b80bf",
   "metadata": {},
   "outputs": [],
   "source": []
  },
  {
   "cell_type": "markdown",
   "id": "7f650378",
   "metadata": {},
   "source": [
    "### Assignment"
   ]
  },
  {
   "cell_type": "markdown",
   "id": "8062e130",
   "metadata": {},
   "source": [
    "###### Question 1\n",
    "\n",
    "How many total pageview events did the links in the provided dataset receive in the full period, how many per day?"
   ]
  },
  {
   "cell_type": "code",
   "execution_count": 56,
   "id": "dfc999c8",
   "metadata": {},
   "outputs": [
    {
     "data": {
      "text/plain": [
       "(73360, 9)"
      ]
     },
     "execution_count": 56,
     "metadata": {},
     "output_type": "execute_result"
    }
   ],
   "source": [
    "df_pageview = df[df.event=='pageview']\n",
    "df_pageview.shape"
   ]
  },
  {
   "cell_type": "code",
   "execution_count": 57,
   "id": "26fb2385",
   "metadata": {},
   "outputs": [
    {
     "data": {
      "text/plain": [
       "date\n",
       "2021-08-19    13006\n",
       "2021-08-20    11088\n",
       "2021-08-21     9939\n",
       "2021-08-22     9982\n",
       "2021-08-23     9722\n",
       "2021-08-24     9705\n",
       "2021-08-25     9918\n",
       "Name: event, dtype: int64"
      ]
     },
     "execution_count": 57,
     "metadata": {},
     "output_type": "execute_result"
    }
   ],
   "source": [
    "df_pageview.groupby(['date'])['event'].count()"
   ]
  },
  {
   "cell_type": "code",
   "execution_count": null,
   "id": "bceef99b",
   "metadata": {},
   "outputs": [],
   "source": []
  },
  {
   "cell_type": "markdown",
   "id": "1d63e55e",
   "metadata": {},
   "source": [
    "###### Question 2\n",
    "\n",
    "What about the other recorded events?"
   ]
  },
  {
   "cell_type": "code",
   "execution_count": 59,
   "id": "650edbb6",
   "metadata": {},
   "outputs": [
    {
     "data": {
      "text/plain": [
       "(49207, 9)"
      ]
     },
     "execution_count": 59,
     "metadata": {},
     "output_type": "execute_result"
    }
   ],
   "source": [
    "df_otherevents = df[~(df.event=='pageview')]\n",
    "df_otherevents.shape"
   ]
  },
  {
   "cell_type": "code",
   "execution_count": 66,
   "id": "d8f77b24",
   "metadata": {},
   "outputs": [
    {
     "name": "stdout",
     "output_type": "stream",
     "text": [
      "Event-Click:\n",
      " date\n",
      "2021-08-19    5860\n",
      "2021-08-20    4999\n",
      "2021-08-21    4279\n",
      "2021-08-22    4421\n",
      "2021-08-23    4314\n",
      "2021-08-24    4231\n",
      "2021-08-25    4395\n",
      "Name: event, dtype: int64\n",
      "\n",
      "Event-Preview:\n",
      " date\n",
      "2021-08-19    2290\n",
      "2021-08-20    2449\n",
      "2021-08-21    2483\n",
      "2021-08-22    2524\n",
      "2021-08-23    2379\n",
      "2021-08-24    2355\n",
      "2021-08-25    2228\n",
      "Name: event, dtype: int64\n"
     ]
    }
   ],
   "source": [
    "print(\"Event-Click:\\n\",df_otherevents[df_otherevents.event=='click'].groupby(['date'])['event'].count())\n",
    "print(\"\\nEvent-Preview:\\n\",df_otherevents[df_otherevents.event=='preview'].groupby(['date'])['event'].count())"
   ]
  },
  {
   "cell_type": "code",
   "execution_count": null,
   "id": "fa92ad22",
   "metadata": {},
   "outputs": [],
   "source": []
  },
  {
   "cell_type": "markdown",
   "id": "565f6d67",
   "metadata": {},
   "source": [
    "###### Question 3\n",
    "\n",
    "Which countries did the pageviews come from?"
   ]
  },
  {
   "cell_type": "code",
   "execution_count": 97,
   "id": "ebccb280",
   "metadata": {
    "scrolled": true
   },
   "outputs": [
    {
     "data": {
      "text/plain": [
       "array(['Saudi Arabia', 'United States', 'Ireland', 'United Kingdom',\n",
       "       'France', 'Guatemala', 'Jordan', 'Kuwait', 'Pakistan', 'Italy',\n",
       "       'Germany', 'Iraq', 'Peru', 'India', 'Nicaragua', 'Rwanda',\n",
       "       'Tanzania', 'United Arab Emirates', 'Norway', 'Oman', 'Bahamas',\n",
       "       'Algeria', 'Czechia', 'Mexico', 'Jamaica', 'Netherlands',\n",
       "       'Colombia', 'Morocco', 'Australia', 'Myanmar', 'Uzbekistan',\n",
       "       'Austria', 'Latvia', 'Turkey', 'Mauritania', 'Sri Lanka',\n",
       "       'Bosnia and Herzegovina', 'Estonia', 'Nigeria', 'Bulgaria',\n",
       "       'Greece', 'El Salvador', 'Philippines', 'Denmark', 'Serbia',\n",
       "       'Canada', 'Spain', 'Libya', 'Palestine', 'Chad', 'Ecuador', 'Mali',\n",
       "       'Romania', 'Switzerland', 'Portugal', 'Slovenia', 'Iceland',\n",
       "       'Sweden', 'Bahrain', 'Egypt', 'Lithuania', 'Liberia', 'Israel',\n",
       "       'Ukraine', 'Puerto Rico', 'South Africa', 'Ghana', 'Kenya',\n",
       "       'Armenia', 'Nepal', 'Barbados', 'Azerbaijan', 'Qatar', 'Uganda',\n",
       "       'Poland', 'Brazil', 'Guyana', 'Fiji', 'Bangladesh', 'Belgium',\n",
       "       'Hong Kong', 'Haiti', 'Botswana', 'Ivory Coast', 'Bhutan',\n",
       "       'Indonesia', 'Réunion', 'Cameroon', 'Singapore', 'Yemen',\n",
       "       'French Guiana', 'Slovakia', 'Dominican Republic', 'Russia',\n",
       "       'Cabo Verde', 'Kyrgyzstan', 'New Zealand', 'U.S. Virgin Islands',\n",
       "       'Albania', 'Venezuela', 'Burkina Faso', 'Montenegro', 'Paraguay',\n",
       "       'Bolivia', 'Cyprus', 'Mayotte', 'Thailand', 'Maldives', 'Tunisia',\n",
       "       'Namibia', 'Costa Rica', 'Croatia', 'Trinidad and Tobago',\n",
       "       'Senegal', 'Suriname', 'Malaysia', 'Honduras', 'DR Congo',\n",
       "       'South Korea', 'Finland', 'Mozambique', 'Hungary', 'Kazakhstan',\n",
       "       'Zambia', 'Somalia', 'Moldova', 'Cayman Islands',\n",
       "       'Saint Vincent and the Grenadines', 'Martinique', 'Guadeloupe',\n",
       "       'Kosovo', 'Sudan', 'Saint Lucia', 'Uruguay', nan, 'Mauritius',\n",
       "       'Aruba', 'Curaçao', 'British Virgin Islands', 'Vietnam', 'Laos',\n",
       "       'Sierra Leone', 'Seychelles', 'Guinea', 'Lebanon', 'Angola',\n",
       "       'Belize', 'Togo', 'Turks and Caicos Islands', 'Georgia', 'Gabon',\n",
       "       'Argentina', 'North Macedonia', 'Benin', 'Ethiopia', 'Niger',\n",
       "       'Zimbabwe', 'St Kitts and Nevis', 'Malawi', 'Chile', 'Madagascar',\n",
       "       'Panama', 'Luxembourg', 'Grenada', 'Greenland', 'Mongolia',\n",
       "       'Taiwan', 'Liechtenstein', 'Anguilla', 'Principality of Monaco',\n",
       "       'Djibouti', 'Samoa', 'Åland', 'Eswatini', 'Faroe Islands',\n",
       "       'Cambodia', 'China', 'French Polynesia', 'Papua New Guinea',\n",
       "       'Japan', 'Lesotho', 'Eritrea', 'Iran', 'Antigua and Barbuda',\n",
       "       'Burundi', 'Belarus', 'Guinea-Bissau', 'Bermuda', 'Gambia',\n",
       "       'Isle of Man', 'American Samoa', 'Tajikistan', 'Comoros', 'Jersey',\n",
       "       'Andorra', 'Brunei', 'Congo Republic', 'Syria', 'Dominica',\n",
       "       'New Caledonia', 'Marshall Islands', 'Macao', 'Gibraltar', 'Palau',\n",
       "       'Solomon Islands', 'Malta', 'Wallis and Futuna', 'Afghanistan',\n",
       "       'Central African Republic', 'Guernsey', 'Sint Maarten',\n",
       "       'Saint Martin'], dtype=object)"
      ]
     },
     "execution_count": 97,
     "metadata": {},
     "output_type": "execute_result"
    }
   ],
   "source": [
    "df_pageview.country.unique()"
   ]
  },
  {
   "cell_type": "code",
   "execution_count": null,
   "id": "1bb1b742",
   "metadata": {},
   "outputs": [],
   "source": []
  },
  {
   "cell_type": "markdown",
   "id": "90d0ae5b",
   "metadata": {},
   "source": [
    "###### Question 4\n",
    "\n",
    "What was the overall click rate (clicks/pageviews)?\n",
    "\n",
    "The click rate is the number of clicks that a page has received (event = 'click') divided by the number of times it has been shown (event = 'pageview'). It is a commonly used metric that measures the success of an advertising campaign.\n",
    "\n",
    "I use the dataset with duplicates since the question is for overall clicks and one user could be have multiple page visit to one website and multiple clicks to the website in the same day. Since we do not have timestamp, it becomes difficult to drop duplicates."
   ]
  },
  {
   "cell_type": "code",
   "execution_count": 98,
   "id": "13867e3d",
   "metadata": {},
   "outputs": [
    {
     "data": {
      "text/html": [
       "<div>\n",
       "<style scoped>\n",
       "    .dataframe tbody tr th:only-of-type {\n",
       "        vertical-align: middle;\n",
       "    }\n",
       "\n",
       "    .dataframe tbody tr th {\n",
       "        vertical-align: top;\n",
       "    }\n",
       "\n",
       "    .dataframe thead th {\n",
       "        text-align: right;\n",
       "    }\n",
       "</style>\n",
       "<table border=\"1\" class=\"dataframe\">\n",
       "  <thead>\n",
       "    <tr style=\"text-align: right;\">\n",
       "      <th></th>\n",
       "      <th>linkid</th>\n",
       "      <th>Click</th>\n",
       "      <th>Pageview</th>\n",
       "      <th>Click Rate</th>\n",
       "    </tr>\n",
       "  </thead>\n",
       "  <tbody>\n",
       "    <tr>\n",
       "      <th>0</th>\n",
       "      <td>00126b32-0c35-507b-981c-02c80d2aa8e7</td>\n",
       "      <td>2.0</td>\n",
       "      <td>2.0</td>\n",
       "      <td>1.000000</td>\n",
       "    </tr>\n",
       "    <tr>\n",
       "      <th>1</th>\n",
       "      <td>004b9724-abca-5481-b6e9-6148a7ca00a5</td>\n",
       "      <td>1.0</td>\n",
       "      <td>1.0</td>\n",
       "      <td>1.000000</td>\n",
       "    </tr>\n",
       "    <tr>\n",
       "      <th>2</th>\n",
       "      <td>0063a982-41cd-5629-96d0-e1c4dd72ea11</td>\n",
       "      <td>2.0</td>\n",
       "      <td>3.0</td>\n",
       "      <td>0.666667</td>\n",
       "    </tr>\n",
       "    <tr>\n",
       "      <th>3</th>\n",
       "      <td>006af6a0-1f0d-4b0c-93bf-756af9071c06</td>\n",
       "      <td>8.0</td>\n",
       "      <td>36.0</td>\n",
       "      <td>0.222222</td>\n",
       "    </tr>\n",
       "    <tr>\n",
       "      <th>4</th>\n",
       "      <td>00759b81-3f04-4a61-b934-f8fb3185f4a0</td>\n",
       "      <td>3.0</td>\n",
       "      <td>4.0</td>\n",
       "      <td>0.750000</td>\n",
       "    </tr>\n",
       "  </tbody>\n",
       "</table>\n",
       "</div>"
      ],
      "text/plain": [
       "                                 linkid  Click  Pageview  Click Rate\n",
       "0  00126b32-0c35-507b-981c-02c80d2aa8e7    2.0       2.0    1.000000\n",
       "1  004b9724-abca-5481-b6e9-6148a7ca00a5    1.0       1.0    1.000000\n",
       "2  0063a982-41cd-5629-96d0-e1c4dd72ea11    2.0       3.0    0.666667\n",
       "3  006af6a0-1f0d-4b0c-93bf-756af9071c06    8.0      36.0    0.222222\n",
       "4  00759b81-3f04-4a61-b934-f8fb3185f4a0    3.0       4.0    0.750000"
      ]
     },
     "execution_count": 98,
     "metadata": {},
     "output_type": "execute_result"
    }
   ],
   "source": [
    "Click_Rate = pd.DataFrame({'Click':df_[df_.event=='click'].groupby(['linkid'])['event'].count(),'Pageview':df_[df_.event=='pageview'].groupby(['linkid'])['event'].count(),'Click Rate':df_[df_.event=='click'].groupby(['linkid'])['event'].count()/df_[df_.event=='pageview'].groupby(['linkid'])['event'].count()}).dropna().reset_index()\n",
    "Click_Rate.head()"
   ]
  },
  {
   "cell_type": "code",
   "execution_count": null,
   "id": "247508f8",
   "metadata": {},
   "outputs": [],
   "source": []
  },
  {
   "cell_type": "markdown",
   "id": "04b07002",
   "metadata": {},
   "source": [
    "###### Question 5\n",
    "\n",
    "How does the clickrate distribute across different links?"
   ]
  },
  {
   "cell_type": "code",
   "execution_count": 105,
   "id": "a039505a",
   "metadata": {},
   "outputs": [
    {
     "data": {
      "text/html": [
       "<div>\n",
       "<style scoped>\n",
       "    .dataframe tbody tr th:only-of-type {\n",
       "        vertical-align: middle;\n",
       "    }\n",
       "\n",
       "    .dataframe tbody tr th {\n",
       "        vertical-align: top;\n",
       "    }\n",
       "\n",
       "    .dataframe thead th {\n",
       "        text-align: right;\n",
       "    }\n",
       "</style>\n",
       "<table border=\"1\" class=\"dataframe\">\n",
       "  <thead>\n",
       "    <tr style=\"text-align: right;\">\n",
       "      <th></th>\n",
       "      <th>Variable Name</th>\n",
       "      <th>count</th>\n",
       "      <th>unique</th>\n",
       "      <th>top</th>\n",
       "      <th>freq</th>\n",
       "      <th>mean</th>\n",
       "      <th>std</th>\n",
       "      <th>min</th>\n",
       "      <th>1%</th>\n",
       "      <th>10%</th>\n",
       "      <th>20%</th>\n",
       "      <th>30%</th>\n",
       "      <th>40%</th>\n",
       "      <th>50%</th>\n",
       "      <th>60%</th>\n",
       "      <th>70%</th>\n",
       "      <th>80%</th>\n",
       "      <th>90%</th>\n",
       "      <th>99%</th>\n",
       "      <th>max</th>\n",
       "    </tr>\n",
       "  </thead>\n",
       "  <tbody>\n",
       "    <tr>\n",
       "      <th>0</th>\n",
       "      <td>linkid</td>\n",
       "      <td>2253</td>\n",
       "      <td>2253</td>\n",
       "      <td>00126b32-0c35-507b-981c-02c80d2aa8e7</td>\n",
       "      <td>1</td>\n",
       "      <td>NaN</td>\n",
       "      <td>NaN</td>\n",
       "      <td>NaN</td>\n",
       "      <td>NaN</td>\n",
       "      <td>NaN</td>\n",
       "      <td>NaN</td>\n",
       "      <td>NaN</td>\n",
       "      <td>NaN</td>\n",
       "      <td>NaN</td>\n",
       "      <td>NaN</td>\n",
       "      <td>NaN</td>\n",
       "      <td>NaN</td>\n",
       "      <td>NaN</td>\n",
       "      <td>NaN</td>\n",
       "      <td>NaN</td>\n",
       "    </tr>\n",
       "    <tr>\n",
       "      <th>1</th>\n",
       "      <td>Click</td>\n",
       "      <td>2253.0</td>\n",
       "      <td>NaN</td>\n",
       "      <td>NaN</td>\n",
       "      <td>NaN</td>\n",
       "      <td>24.74</td>\n",
       "      <td>232.01</td>\n",
       "      <td>1.0</td>\n",
       "      <td>1.0</td>\n",
       "      <td>1.0</td>\n",
       "      <td>1.0</td>\n",
       "      <td>1.0</td>\n",
       "      <td>1.0</td>\n",
       "      <td>1.0</td>\n",
       "      <td>1.0</td>\n",
       "      <td>2.0</td>\n",
       "      <td>4.0</td>\n",
       "      <td>21.8</td>\n",
       "      <td>389.88</td>\n",
       "      <td>9692.0</td>\n",
       "    </tr>\n",
       "    <tr>\n",
       "      <th>2</th>\n",
       "      <td>Pageview</td>\n",
       "      <td>2253.0</td>\n",
       "      <td>NaN</td>\n",
       "      <td>NaN</td>\n",
       "      <td>NaN</td>\n",
       "      <td>62.15</td>\n",
       "      <td>607.89</td>\n",
       "      <td>1.0</td>\n",
       "      <td>1.0</td>\n",
       "      <td>1.0</td>\n",
       "      <td>1.0</td>\n",
       "      <td>1.0</td>\n",
       "      <td>1.0</td>\n",
       "      <td>2.0</td>\n",
       "      <td>2.0</td>\n",
       "      <td>3.0</td>\n",
       "      <td>7.0</td>\n",
       "      <td>57.0</td>\n",
       "      <td>915.4</td>\n",
       "      <td>25175.0</td>\n",
       "    </tr>\n",
       "    <tr>\n",
       "      <th>3</th>\n",
       "      <td>Click Rate</td>\n",
       "      <td>2253.0</td>\n",
       "      <td>NaN</td>\n",
       "      <td>NaN</td>\n",
       "      <td>NaN</td>\n",
       "      <td>0.81</td>\n",
       "      <td>1.96</td>\n",
       "      <td>0.09</td>\n",
       "      <td>0.17</td>\n",
       "      <td>0.33</td>\n",
       "      <td>0.44</td>\n",
       "      <td>0.5</td>\n",
       "      <td>0.61</td>\n",
       "      <td>1.0</td>\n",
       "      <td>1.0</td>\n",
       "      <td>1.0</td>\n",
       "      <td>1.0</td>\n",
       "      <td>1.0</td>\n",
       "      <td>2.0</td>\n",
       "      <td>92.3</td>\n",
       "    </tr>\n",
       "  </tbody>\n",
       "</table>\n",
       "</div>"
      ],
      "text/plain": [
       "  Variable Name   count unique                                   top freq  \\\n",
       "0        linkid    2253   2253  00126b32-0c35-507b-981c-02c80d2aa8e7    1   \n",
       "1         Click  2253.0    NaN                                   NaN  NaN   \n",
       "2      Pageview  2253.0    NaN                                   NaN  NaN   \n",
       "3    Click Rate  2253.0    NaN                                   NaN  NaN   \n",
       "\n",
       "    mean     std   min    1%   10%   20%  30%   40%  50%  60%  70%  80%   90%  \\\n",
       "0    NaN     NaN   NaN   NaN   NaN   NaN  NaN   NaN  NaN  NaN  NaN  NaN   NaN   \n",
       "1  24.74  232.01   1.0   1.0   1.0   1.0  1.0   1.0  1.0  1.0  2.0  4.0  21.8   \n",
       "2  62.15  607.89   1.0   1.0   1.0   1.0  1.0   1.0  2.0  2.0  3.0  7.0  57.0   \n",
       "3   0.81    1.96  0.09  0.17  0.33  0.44  0.5  0.61  1.0  1.0  1.0  1.0   1.0   \n",
       "\n",
       "      99%      max  \n",
       "0     NaN      NaN  \n",
       "1  389.88   9692.0  \n",
       "2   915.4  25175.0  \n",
       "3     2.0     92.3  "
      ]
     },
     "execution_count": 105,
     "metadata": {},
     "output_type": "execute_result"
    }
   ],
   "source": [
    "describe(Click_Rate)"
   ]
  },
  {
   "cell_type": "code",
   "execution_count": 100,
   "id": "afd46d93",
   "metadata": {},
   "outputs": [
    {
     "data": {
      "text/plain": [
       "<AxesSubplot:ylabel='Density'>"
      ]
     },
     "execution_count": 100,
     "metadata": {},
     "output_type": "execute_result"
    },
    {
     "data": {
      "image/png": "[encoded data removed]",
      "text/plain": [
       "<Figure size 432x288 with 1 Axes>"
      ]
     },
     "metadata": {
      "needs_background": "light"
     },
     "output_type": "display_data"
    }
   ],
   "source": [
    "Click_Rate['Click Rate'].plot(kind='kde')"
   ]
  },
  {
   "cell_type": "code",
   "execution_count": null,
   "id": "2f84397a",
   "metadata": {},
   "outputs": [],
   "source": []
  },
  {
   "cell_type": "markdown",
   "id": "3233ff39",
   "metadata": {},
   "source": [
    "###### Question 6\n",
    "\n",
    "Is there any correlation between clicks and previews on a link? Is it significant? How large is the effect? Make sure to at least test for potential linear as well as categorical relationships between both variables."
   ]
  },
  {
   "cell_type": "code",
   "execution_count": 107,
   "id": "7ff1cc34",
   "metadata": {},
   "outputs": [
    {
     "data": {
      "text/html": [
       "<div>\n",
       "<style scoped>\n",
       "    .dataframe tbody tr th:only-of-type {\n",
       "        vertical-align: middle;\n",
       "    }\n",
       "\n",
       "    .dataframe tbody tr th {\n",
       "        vertical-align: top;\n",
       "    }\n",
       "\n",
       "    .dataframe thead th {\n",
       "        text-align: right;\n",
       "    }\n",
       "</style>\n",
       "<table border=\"1\" class=\"dataframe\">\n",
       "  <thead>\n",
       "    <tr style=\"text-align: right;\">\n",
       "      <th></th>\n",
       "      <th>event</th>\n",
       "      <th>date</th>\n",
       "      <th>country</th>\n",
       "      <th>city</th>\n",
       "      <th>artist</th>\n",
       "      <th>album</th>\n",
       "      <th>track</th>\n",
       "      <th>isrc</th>\n",
       "      <th>linkid</th>\n",
       "    </tr>\n",
       "  </thead>\n",
       "  <tbody>\n",
       "    <tr>\n",
       "      <th>0</th>\n",
       "      <td>click</td>\n",
       "      <td>2021-08-21</td>\n",
       "      <td>Saudi Arabia</td>\n",
       "      <td>Jeddah</td>\n",
       "      <td>Tesher</td>\n",
       "      <td>Jalebi Baby</td>\n",
       "      <td>Jalebi Baby</td>\n",
       "      <td>QZNWQ2070741</td>\n",
       "      <td>2d896d31-97b6-4869-967b-1c5fb9cd4bb8</td>\n",
       "    </tr>\n",
       "    <tr>\n",
       "      <th>2</th>\n",
       "      <td>click</td>\n",
       "      <td>2021-08-21</td>\n",
       "      <td>India</td>\n",
       "      <td>Ludhiana</td>\n",
       "      <td>Reyanna Maria</td>\n",
       "      <td>So Pretty</td>\n",
       "      <td>So Pretty</td>\n",
       "      <td>USUM72100871</td>\n",
       "      <td>23199824-9cf5-4b98-942a-34965c3b0cc2</td>\n",
       "    </tr>\n",
       "    <tr>\n",
       "      <th>3</th>\n",
       "      <td>click</td>\n",
       "      <td>2021-08-21</td>\n",
       "      <td>France</td>\n",
       "      <td>Unknown</td>\n",
       "      <td>Simone &amp; Simaria, Sebastian Yatra</td>\n",
       "      <td>No Llores Más</td>\n",
       "      <td>No Llores Más</td>\n",
       "      <td>BRUM72003904</td>\n",
       "      <td>35573248-4e49-47c7-af80-08a960fa74cd</td>\n",
       "    </tr>\n",
       "    <tr>\n",
       "      <th>4</th>\n",
       "      <td>click</td>\n",
       "      <td>2021-08-21</td>\n",
       "      <td>Maldives</td>\n",
       "      <td>Malé</td>\n",
       "      <td>Tesher</td>\n",
       "      <td>Jalebi Baby</td>\n",
       "      <td>Jalebi Baby</td>\n",
       "      <td>QZNWQ2070741</td>\n",
       "      <td>2d896d31-97b6-4869-967b-1c5fb9cd4bb8</td>\n",
       "    </tr>\n",
       "    <tr>\n",
       "      <th>5</th>\n",
       "      <td>click</td>\n",
       "      <td>2021-08-21</td>\n",
       "      <td>United States</td>\n",
       "      <td>Los Angeles</td>\n",
       "      <td>KenTheMan</td>\n",
       "      <td>I'm Perfect</td>\n",
       "      <td>I'm Perfect</td>\n",
       "      <td>US39N2102090</td>\n",
       "      <td>190c7170-4044-4c97-9709-926917155b02</td>\n",
       "    </tr>\n",
       "  </tbody>\n",
       "</table>\n",
       "</div>"
      ],
      "text/plain": [
       "   event        date        country         city  \\\n",
       "0  click  2021-08-21   Saudi Arabia       Jeddah   \n",
       "2  click  2021-08-21          India     Ludhiana   \n",
       "3  click  2021-08-21         France      Unknown   \n",
       "4  click  2021-08-21       Maldives         Malé   \n",
       "5  click  2021-08-21  United States  Los Angeles   \n",
       "\n",
       "                              artist          album          track  \\\n",
       "0                             Tesher    Jalebi Baby    Jalebi Baby   \n",
       "2                      Reyanna Maria      So Pretty      So Pretty   \n",
       "3  Simone & Simaria, Sebastian Yatra  No Llores Más  No Llores Más   \n",
       "4                             Tesher    Jalebi Baby    Jalebi Baby   \n",
       "5                          KenTheMan    I'm Perfect    I'm Perfect   \n",
       "\n",
       "           isrc                                linkid  \n",
       "0  QZNWQ2070741  2d896d31-97b6-4869-967b-1c5fb9cd4bb8  \n",
       "2  USUM72100871  23199824-9cf5-4b98-942a-34965c3b0cc2  \n",
       "3  BRUM72003904  35573248-4e49-47c7-af80-08a960fa74cd  \n",
       "4  QZNWQ2070741  2d896d31-97b6-4869-967b-1c5fb9cd4bb8  \n",
       "5  US39N2102090  190c7170-4044-4c97-9709-926917155b02  "
      ]
     },
     "execution_count": 107,
     "metadata": {},
     "output_type": "execute_result"
    }
   ],
   "source": [
    "df.head()"
   ]
  },
  {
   "cell_type": "code",
   "execution_count": 108,
   "id": "0402ae2d",
   "metadata": {},
   "outputs": [
    {
     "data": {
      "text/plain": [
       "(49207, 9)"
      ]
     },
     "execution_count": 108,
     "metadata": {},
     "output_type": "execute_result"
    }
   ],
   "source": [
    "df_click_preview = df[df.event.isin(['click','preview'])]\n",
    "df_click_preview.shape"
   ]
  },
  {
   "cell_type": "code",
   "execution_count": 109,
   "id": "ceceaf63",
   "metadata": {},
   "outputs": [
    {
     "data": {
      "text/html": [
       "<div>\n",
       "<style scoped>\n",
       "    .dataframe tbody tr th:only-of-type {\n",
       "        vertical-align: middle;\n",
       "    }\n",
       "\n",
       "    .dataframe tbody tr th {\n",
       "        vertical-align: top;\n",
       "    }\n",
       "\n",
       "    .dataframe thead th {\n",
       "        text-align: right;\n",
       "    }\n",
       "</style>\n",
       "<table border=\"1\" class=\"dataframe\">\n",
       "  <thead>\n",
       "    <tr style=\"text-align: right;\">\n",
       "      <th></th>\n",
       "      <th>Variable Name</th>\n",
       "      <th>count</th>\n",
       "      <th>unique</th>\n",
       "      <th>top</th>\n",
       "      <th>freq</th>\n",
       "    </tr>\n",
       "  </thead>\n",
       "  <tbody>\n",
       "    <tr>\n",
       "      <th>0</th>\n",
       "      <td>event</td>\n",
       "      <td>49207</td>\n",
       "      <td>2</td>\n",
       "      <td>click</td>\n",
       "      <td>32499</td>\n",
       "    </tr>\n",
       "    <tr>\n",
       "      <th>1</th>\n",
       "      <td>date</td>\n",
       "      <td>49207</td>\n",
       "      <td>7</td>\n",
       "      <td>2021-08-19</td>\n",
       "      <td>8150</td>\n",
       "    </tr>\n",
       "    <tr>\n",
       "      <th>2</th>\n",
       "      <td>country</td>\n",
       "      <td>49205</td>\n",
       "      <td>206</td>\n",
       "      <td>United States</td>\n",
       "      <td>10533</td>\n",
       "    </tr>\n",
       "    <tr>\n",
       "      <th>3</th>\n",
       "      <td>city</td>\n",
       "      <td>49205</td>\n",
       "      <td>8137</td>\n",
       "      <td>Unknown</td>\n",
       "      <td>3749</td>\n",
       "    </tr>\n",
       "    <tr>\n",
       "      <th>4</th>\n",
       "      <td>artist</td>\n",
       "      <td>49198</td>\n",
       "      <td>1549</td>\n",
       "      <td>Tesher</td>\n",
       "      <td>3712</td>\n",
       "    </tr>\n",
       "    <tr>\n",
       "      <th>5</th>\n",
       "      <td>album</td>\n",
       "      <td>49206</td>\n",
       "      <td>2003</td>\n",
       "      <td>Jalebi Baby</td>\n",
       "      <td>3712</td>\n",
       "    </tr>\n",
       "    <tr>\n",
       "      <th>6</th>\n",
       "      <td>track</td>\n",
       "      <td>49206</td>\n",
       "      <td>2155</td>\n",
       "      <td>Jalebi Baby</td>\n",
       "      <td>3712</td>\n",
       "    </tr>\n",
       "    <tr>\n",
       "      <th>7</th>\n",
       "      <td>isrc</td>\n",
       "      <td>47246</td>\n",
       "      <td>628</td>\n",
       "      <td>QZNWQ2070741</td>\n",
       "      <td>3712</td>\n",
       "    </tr>\n",
       "    <tr>\n",
       "      <th>8</th>\n",
       "      <td>linkid</td>\n",
       "      <td>49207</td>\n",
       "      <td>2286</td>\n",
       "      <td>2d896d31-97b6-4869-967b-1c5fb9cd4bb8</td>\n",
       "      <td>3712</td>\n",
       "    </tr>\n",
       "  </tbody>\n",
       "</table>\n",
       "</div>"
      ],
      "text/plain": [
       "  Variable Name  count unique                                   top   freq\n",
       "0         event  49207      2                                 click  32499\n",
       "1          date  49207      7                            2021-08-19   8150\n",
       "2       country  49205    206                         United States  10533\n",
       "3          city  49205   8137                               Unknown   3749\n",
       "4        artist  49198   1549                                Tesher   3712\n",
       "5         album  49206   2003                           Jalebi Baby   3712\n",
       "6         track  49206   2155                           Jalebi Baby   3712\n",
       "7          isrc  47246    628                          QZNWQ2070741   3712\n",
       "8        linkid  49207   2286  2d896d31-97b6-4869-967b-1c5fb9cd4bb8   3712"
      ]
     },
     "execution_count": 109,
     "metadata": {},
     "output_type": "execute_result"
    }
   ],
   "source": [
    "describe(df_click_preview)"
   ]
  },
  {
   "cell_type": "code",
   "execution_count": 115,
   "id": "813e3092",
   "metadata": {},
   "outputs": [],
   "source": [
    "df_click_preview = pd.DataFrame({'Click':df[df.event=='click'].groupby(['linkid'])['event'].count(),'Preview':df[df.event=='preview'].groupby(['linkid'])['event'].count()}).dropna().reset_index()\n",
    "df_click_preview_final = pd.merge(left=df, right=df_click_preview, how=\"left\", on=\"linkid\")"
   ]
  },
  {
   "cell_type": "code",
   "execution_count": 116,
   "id": "4972773e",
   "metadata": {},
   "outputs": [],
   "source": [
    "df_click_preview_final.dropna(subset=[\"Click\", \"Preview\"], inplace=True)"
   ]
  },
  {
   "cell_type": "code",
   "execution_count": 117,
   "id": "f1645b30",
   "metadata": {},
   "outputs": [
    {
     "data": {
      "text/plain": [
       "(112097, 11)"
      ]
     },
     "execution_count": 117,
     "metadata": {},
     "output_type": "execute_result"
    }
   ],
   "source": [
    "df_click_preview_final.shape"
   ]
  },
  {
   "cell_type": "code",
   "execution_count": 122,
   "id": "9e7e9486",
   "metadata": {},
   "outputs": [
    {
     "data": {
      "text/html": [
       "<div>\n",
       "<style scoped>\n",
       "    .dataframe tbody tr th:only-of-type {\n",
       "        vertical-align: middle;\n",
       "    }\n",
       "\n",
       "    .dataframe tbody tr th {\n",
       "        vertical-align: top;\n",
       "    }\n",
       "\n",
       "    .dataframe thead th {\n",
       "        text-align: right;\n",
       "    }\n",
       "</style>\n",
       "<table border=\"1\" class=\"dataframe\">\n",
       "  <thead>\n",
       "    <tr style=\"text-align: right;\">\n",
       "      <th></th>\n",
       "      <th>Click</th>\n",
       "      <th>Preview</th>\n",
       "    </tr>\n",
       "  </thead>\n",
       "  <tbody>\n",
       "    <tr>\n",
       "      <th>Click</th>\n",
       "      <td>1.000000</td>\n",
       "      <td>0.983473</td>\n",
       "    </tr>\n",
       "    <tr>\n",
       "      <th>Preview</th>\n",
       "      <td>0.983473</td>\n",
       "      <td>1.000000</td>\n",
       "    </tr>\n",
       "  </tbody>\n",
       "</table>\n",
       "</div>"
      ],
      "text/plain": [
       "            Click   Preview\n",
       "Click    1.000000  0.983473\n",
       "Preview  0.983473  1.000000"
      ]
     },
     "execution_count": 122,
     "metadata": {},
     "output_type": "execute_result"
    }
   ],
   "source": [
    "# correlation - numerical variables\n",
    "df_click_preview_final.corr()"
   ]
  },
  {
   "cell_type": "code",
   "execution_count": 125,
   "id": "2c44a727",
   "metadata": {},
   "outputs": [
    {
     "data": {
      "text/plain": [
       "(0.9834733364086174, 0.0)"
      ]
     },
     "execution_count": 125,
     "metadata": {},
     "output_type": "execute_result"
    }
   ],
   "source": [
    "stats.pearsonr(x=df_click_preview_final[\"Click\"], y=df_click_preview_final[\"Preview\"])"
   ]
  },
  {
   "cell_type": "markdown",
   "id": "67819194",
   "metadata": {},
   "source": [
    "High positive correlation between the number of clicks and previews (clicks wont happen without previews and vice-versa)"
   ]
  },
  {
   "cell_type": "code",
   "execution_count": 130,
   "id": "ff1386fd",
   "metadata": {},
   "outputs": [
    {
     "data": {
      "text/html": [
       "<div>\n",
       "<style scoped>\n",
       "    .dataframe tbody tr th:only-of-type {\n",
       "        vertical-align: middle;\n",
       "    }\n",
       "\n",
       "    .dataframe tbody tr th {\n",
       "        vertical-align: top;\n",
       "    }\n",
       "\n",
       "    .dataframe thead th {\n",
       "        text-align: right;\n",
       "    }\n",
       "</style>\n",
       "<table border=\"1\" class=\"dataframe\">\n",
       "  <thead>\n",
       "    <tr style=\"text-align: right;\">\n",
       "      <th></th>\n",
       "      <th>country</th>\n",
       "      <th>city</th>\n",
       "      <th>artist</th>\n",
       "      <th>album</th>\n",
       "      <th>track</th>\n",
       "    </tr>\n",
       "  </thead>\n",
       "  <tbody>\n",
       "    <tr>\n",
       "      <th>country</th>\n",
       "      <td>1.000000</td>\n",
       "      <td>0.112272</td>\n",
       "      <td>-0.043252</td>\n",
       "      <td>-0.045882</td>\n",
       "      <td>-0.046744</td>\n",
       "    </tr>\n",
       "    <tr>\n",
       "      <th>city</th>\n",
       "      <td>0.112272</td>\n",
       "      <td>1.000000</td>\n",
       "      <td>0.007946</td>\n",
       "      <td>0.019207</td>\n",
       "      <td>0.021798</td>\n",
       "    </tr>\n",
       "    <tr>\n",
       "      <th>artist</th>\n",
       "      <td>-0.043252</td>\n",
       "      <td>0.007946</td>\n",
       "      <td>1.000000</td>\n",
       "      <td>0.894180</td>\n",
       "      <td>0.867132</td>\n",
       "    </tr>\n",
       "    <tr>\n",
       "      <th>album</th>\n",
       "      <td>-0.045882</td>\n",
       "      <td>0.019207</td>\n",
       "      <td>0.894180</td>\n",
       "      <td>1.000000</td>\n",
       "      <td>0.960619</td>\n",
       "    </tr>\n",
       "    <tr>\n",
       "      <th>track</th>\n",
       "      <td>-0.046744</td>\n",
       "      <td>0.021798</td>\n",
       "      <td>0.867132</td>\n",
       "      <td>0.960619</td>\n",
       "      <td>1.000000</td>\n",
       "    </tr>\n",
       "  </tbody>\n",
       "</table>\n",
       "</div>"
      ],
      "text/plain": [
       "          country      city    artist     album     track\n",
       "country  1.000000  0.112272 -0.043252 -0.045882 -0.046744\n",
       "city     0.112272  1.000000  0.007946  0.019207  0.021798\n",
       "artist  -0.043252  0.007946  1.000000  0.894180  0.867132\n",
       "album   -0.045882  0.019207  0.894180  1.000000  0.960619\n",
       "track   -0.046744  0.021798  0.867132  0.960619  1.000000"
      ]
     },
     "execution_count": 130,
     "metadata": {},
     "output_type": "execute_result"
    }
   ],
   "source": [
    "# correlation - categorical variables\n",
    "cat_cols = [\"country\", \"city\", \"artist\", \"album\", \"track\"]\n",
    "df[cat_cols].apply(lambda x: pd.factorize(x)[0]).corr()"
   ]
  },
  {
   "cell_type": "markdown",
   "id": "c2a3f251",
   "metadata": {},
   "source": [
    "High positive correlation between album, artist, and track and almost no correlation between other variables. Makes sense since each track belongs to an album which is performed by an artist."
   ]
  }
 ],
 "metadata": {
  "kernelspec": {
   "display_name": "Python 3 (ipykernel)",
   "language": "python",
   "name": "python3"
  },
  "language_info": {
   "codemirror_mode": {
    "name": "ipython",
    "version": 3
   },
   "file_extension": ".py",
   "mimetype": "text/x-python",
   "name": "python",
   "nbconvert_exporter": "python",
   "pygments_lexer": "ipython3",
   "version": "3.9.12"
  }
 },
 "nbformat": 4,
 "nbformat_minor": 5
}
