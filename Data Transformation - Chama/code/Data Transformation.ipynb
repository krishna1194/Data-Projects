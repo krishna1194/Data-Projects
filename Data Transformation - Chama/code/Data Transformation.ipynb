{
 "cells": [
  {
   "cell_type": "markdown",
   "id": "fc64adc8",
   "metadata": {},
   "source": [
    "# Data Transformation\n",
    "\n",
    "Chama has some event data come as JSONs, and it needs some transformations to be structured as tables. Convert the presented case.json file to three CSV files, with the following rules:\n",
    "\n",
    "**CuratedOfferOptions.csv:**\n",
    "\n",
    "| Variable Name | Transformation |\n",
    "|------------|----------|\n",
    "| CurationProvider | in quotes |\n",
    "| OfferId | in quotes |\n",
    "| DealerId | in quotes |\n",
    "| UniqueOptionId | in quotes |\n",
    "| OptionId | in quotes |\n",
    "| IsMobileDealer | without quotes |\n",
    "| IsOpen | without quotes |\n",
    "| Eta | in quotes |\n",
    "| ChamaScore | without quotes |\n",
    "| ProductBrand | in quotes |\n",
    "| IsWinner | in quotes |\n",
    "| MinimumPrice | without quotes |\n",
    "| MaximumPrice | without quotes |\n",
    "| DynamicPrice | without quotes |\n",
    "| FinalPrice | without quotes |\n",
    "| DefeatPrimaryReason | in quotes |\n",
    "| DefeatReasons | in quotes |\n",
    "| EnqueuedTimeSP | DD/MM/YYYY (converted to Brasilian timezone - UTC-3) |\n",
    "\n",
    "\n",
    "\n",
    "**DynamicPriceOption.csv:**\n",
    "\n",
    "| Variable Name | Transformation |\n",
    "|------------|----------|\n",
    "| Provider | in quotes |\n",
    "| OfferId | in quotes |\n",
    "| UniqueOptionId | in quotes |\n",
    "| BestPrice | without quotes |\n",
    "| EnqueuedTimeSP | DD/MM/YYYY (converted to Brasilian timezone - UTC-3) |\n",
    "\n",
    "\n",
    "**DynamicPriceRange.csv:**\n",
    "\n",
    "| Variable Name | Transformation |\n",
    "|------------|----------|\n",
    "| Provider | in quotes |\n",
    "| OfferId | in quotes |\n",
    "| MinGlobal | without quotes |\n",
    "| MinRecommended | without quotes |\n",
    "| MaxRecommended | without quotes |\n",
    "| DifferenceMinRecommendMinTheory | without quotes |\n",
    "| EnqueuedTimeSP | DD/MM/YYYY (converted to Brasilian timezone - UTC-3) |\n",
    "\n"
   ]
  },
  {
   "cell_type": "code",
   "execution_count": 1,
   "id": "1521f0c7",
   "metadata": {},
   "outputs": [],
   "source": [
    "# Import libraries\n",
    "import pandas as pd\n",
    "import numpy as np\n",
    "import re\n",
    "import glob\n",
    "import os.path\n",
    "import calendar\n",
    "import matplotlib.pyplot as plt\n",
    "%matplotlib inline\n",
    "import json\n",
    "from datetime import datetime\n",
    "from dateutil.relativedelta import relativedelta\n",
    "from sklearn.cluster import DBSCAN\n",
    "from kmodes.kmodes import KModes\n",
    "from sklearn.preprocessing import MinMaxScaler\n",
    "from pandas.api.types import is_numeric_dtype\n",
    "from pandas_profiling import ProfileReport\n",
    "import dtale\n",
    "from scipy import stats\n",
    "import sweetviz as sv\n",
    "pd.set_option('display.max_rows', 99999)\n",
    "pd.set_option('display.max_columns', 99999)\n",
    "from IPython.core.interactiveshell import InteractiveShell\n",
    "InteractiveShell.act_node_interactivity = 'all'\n",
    "import warnings\n",
    "warnings.filterwarnings('ignore')"
   ]
  },
  {
   "cell_type": "code",
   "execution_count": 2,
   "id": "682423cb",
   "metadata": {},
   "outputs": [],
   "source": [
    "df = pd.read_json('case.json')"
   ]
  },
  {
   "cell_type": "code",
   "execution_count": 3,
   "id": "a53f5db8",
   "metadata": {},
   "outputs": [
    {
     "data": {
      "text/plain": [
       "(37, 3)"
      ]
     },
     "execution_count": 3,
     "metadata": {},
     "output_type": "execute_result"
    }
   ],
   "source": [
    "df.shape"
   ]
  },
  {
   "cell_type": "code",
   "execution_count": 4,
   "id": "f2c91310",
   "metadata": {},
   "outputs": [
    {
     "data": {
      "text/html": [
       "<div>\n",
       "<style scoped>\n",
       "    .dataframe tbody tr th:only-of-type {\n",
       "        vertical-align: middle;\n",
       "    }\n",
       "\n",
       "    .dataframe tbody tr th {\n",
       "        vertical-align: top;\n",
       "    }\n",
       "\n",
       "    .dataframe thead th {\n",
       "        text-align: right;\n",
       "    }\n",
       "</style>\n",
       "<table border=\"1\" class=\"dataframe\">\n",
       "  <thead>\n",
       "    <tr style=\"text-align: right;\">\n",
       "      <th></th>\n",
       "      <th>EnqueuedTimeUtc</th>\n",
       "      <th>EventName</th>\n",
       "      <th>Payload</th>\n",
       "    </tr>\n",
       "  </thead>\n",
       "  <tbody>\n",
       "    <tr>\n",
       "      <th>0</th>\n",
       "      <td>2021-09-05 08:04:08 UTC</td>\n",
       "      <td>DynamicPrice_Result</td>\n",
       "      <td>{\"provider\":\"ApplyDynamicPriceRange\",\"offerId\"...</td>\n",
       "    </tr>\n",
       "    <tr>\n",
       "      <th>1</th>\n",
       "      <td>2021-08-18 11:43:23 UTC</td>\n",
       "      <td>DynamicPrice_Result</td>\n",
       "      <td>{\"provider\":\"ApplyDynamicPricePerOption\",\"offe...</td>\n",
       "    </tr>\n",
       "    <tr>\n",
       "      <th>2</th>\n",
       "      <td>2021-09-05 09:04:04 UTC</td>\n",
       "      <td>DynamicPrice_Result</td>\n",
       "      <td>{\"provider\":\"ApplyDynamicPriceRange\",\"offerId\"...</td>\n",
       "    </tr>\n",
       "    <tr>\n",
       "      <th>3</th>\n",
       "      <td>2021-08-25 05:02:55 UTC</td>\n",
       "      <td>CurateOffer_Result</td>\n",
       "      <td>[{\"curationProvider\":\"ByPrice\",\"offerId\":\"149f...</td>\n",
       "    </tr>\n",
       "    <tr>\n",
       "      <th>4</th>\n",
       "      <td>2021-09-05 08:03:28 UTC</td>\n",
       "      <td>DynamicPrice_Result</td>\n",
       "      <td>{\"provider\":\"ApplyDynamicPriceRange\",\"offerId\"...</td>\n",
       "    </tr>\n",
       "  </tbody>\n",
       "</table>\n",
       "</div>"
      ],
      "text/plain": [
       "           EnqueuedTimeUtc            EventName  \\\n",
       "0  2021-09-05 08:04:08 UTC  DynamicPrice_Result   \n",
       "1  2021-08-18 11:43:23 UTC  DynamicPrice_Result   \n",
       "2  2021-09-05 09:04:04 UTC  DynamicPrice_Result   \n",
       "3  2021-08-25 05:02:55 UTC   CurateOffer_Result   \n",
       "4  2021-09-05 08:03:28 UTC  DynamicPrice_Result   \n",
       "\n",
       "                                             Payload  \n",
       "0  {\"provider\":\"ApplyDynamicPriceRange\",\"offerId\"...  \n",
       "1  {\"provider\":\"ApplyDynamicPricePerOption\",\"offe...  \n",
       "2  {\"provider\":\"ApplyDynamicPriceRange\",\"offerId\"...  \n",
       "3  [{\"curationProvider\":\"ByPrice\",\"offerId\":\"149f...  \n",
       "4  {\"provider\":\"ApplyDynamicPriceRange\",\"offerId\"...  "
      ]
     },
     "execution_count": 4,
     "metadata": {},
     "output_type": "execute_result"
    }
   ],
   "source": [
    "df.head()"
   ]
  },
  {
   "cell_type": "code",
   "execution_count": 5,
   "id": "3129c87f",
   "metadata": {},
   "outputs": [],
   "source": [
    "# transform to Brazilian timezone - for all the csv's we need to create\n",
    "df[\"EnqueuedTimeUtc\"] = pd.to_datetime(arg=df[\"EnqueuedTimeUtc\"]).dt.tz_convert(tz=\"Brazil/East\")"
   ]
  },
  {
   "cell_type": "code",
   "execution_count": 6,
   "id": "55eb8430",
   "metadata": {},
   "outputs": [
    {
     "data": {
      "text/html": [
       "<div>\n",
       "<style scoped>\n",
       "    .dataframe tbody tr th:only-of-type {\n",
       "        vertical-align: middle;\n",
       "    }\n",
       "\n",
       "    .dataframe tbody tr th {\n",
       "        vertical-align: top;\n",
       "    }\n",
       "\n",
       "    .dataframe thead th {\n",
       "        text-align: right;\n",
       "    }\n",
       "</style>\n",
       "<table border=\"1\" class=\"dataframe\">\n",
       "  <thead>\n",
       "    <tr style=\"text-align: right;\">\n",
       "      <th></th>\n",
       "      <th>EnqueuedTimeUtc</th>\n",
       "      <th>EventName</th>\n",
       "      <th>Payload</th>\n",
       "    </tr>\n",
       "  </thead>\n",
       "  <tbody>\n",
       "    <tr>\n",
       "      <th>0</th>\n",
       "      <td>2021-09-05 05:04:08-03:00</td>\n",
       "      <td>DynamicPrice_Result</td>\n",
       "      <td>{\"provider\":\"ApplyDynamicPriceRange\",\"offerId\"...</td>\n",
       "    </tr>\n",
       "    <tr>\n",
       "      <th>1</th>\n",
       "      <td>2021-08-18 08:43:23-03:00</td>\n",
       "      <td>DynamicPrice_Result</td>\n",
       "      <td>{\"provider\":\"ApplyDynamicPricePerOption\",\"offe...</td>\n",
       "    </tr>\n",
       "    <tr>\n",
       "      <th>2</th>\n",
       "      <td>2021-09-05 06:04:04-03:00</td>\n",
       "      <td>DynamicPrice_Result</td>\n",
       "      <td>{\"provider\":\"ApplyDynamicPriceRange\",\"offerId\"...</td>\n",
       "    </tr>\n",
       "    <tr>\n",
       "      <th>3</th>\n",
       "      <td>2021-08-25 02:02:55-03:00</td>\n",
       "      <td>CurateOffer_Result</td>\n",
       "      <td>[{\"curationProvider\":\"ByPrice\",\"offerId\":\"149f...</td>\n",
       "    </tr>\n",
       "    <tr>\n",
       "      <th>4</th>\n",
       "      <td>2021-09-05 05:03:28-03:00</td>\n",
       "      <td>DynamicPrice_Result</td>\n",
       "      <td>{\"provider\":\"ApplyDynamicPriceRange\",\"offerId\"...</td>\n",
       "    </tr>\n",
       "  </tbody>\n",
       "</table>\n",
       "</div>"
      ],
      "text/plain": [
       "            EnqueuedTimeUtc            EventName  \\\n",
       "0 2021-09-05 05:04:08-03:00  DynamicPrice_Result   \n",
       "1 2021-08-18 08:43:23-03:00  DynamicPrice_Result   \n",
       "2 2021-09-05 06:04:04-03:00  DynamicPrice_Result   \n",
       "3 2021-08-25 02:02:55-03:00   CurateOffer_Result   \n",
       "4 2021-09-05 05:03:28-03:00  DynamicPrice_Result   \n",
       "\n",
       "                                             Payload  \n",
       "0  {\"provider\":\"ApplyDynamicPriceRange\",\"offerId\"...  \n",
       "1  {\"provider\":\"ApplyDynamicPricePerOption\",\"offe...  \n",
       "2  {\"provider\":\"ApplyDynamicPriceRange\",\"offerId\"...  \n",
       "3  [{\"curationProvider\":\"ByPrice\",\"offerId\":\"149f...  \n",
       "4  {\"provider\":\"ApplyDynamicPriceRange\",\"offerId\"...  "
      ]
     },
     "execution_count": 6,
     "metadata": {},
     "output_type": "execute_result"
    }
   ],
   "source": [
    "df.head()"
   ]
  },
  {
   "cell_type": "code",
   "execution_count": 7,
   "id": "070f2a3d",
   "metadata": {},
   "outputs": [
    {
     "data": {
      "text/plain": [
       "DynamicPrice_Result    32\n",
       "CurateOffer_Result      5\n",
       "Name: EventName, dtype: int64"
      ]
     },
     "execution_count": 7,
     "metadata": {},
     "output_type": "execute_result"
    }
   ],
   "source": [
    "df[\"EventName\"].value_counts()"
   ]
  },
  {
   "cell_type": "markdown",
   "id": "a4901176",
   "metadata": {},
   "source": [
    "We need to create 3 csv's. Two of them will be from DynamicPrice_Result and one from CurateOffer_Result under EventName variable."
   ]
  },
  {
   "cell_type": "markdown",
   "id": "986df922",
   "metadata": {},
   "source": [
    "### Create CuratedOfferOptions.csv file"
   ]
  },
  {
   "cell_type": "code",
   "execution_count": 8,
   "id": "af2e570c",
   "metadata": {},
   "outputs": [
    {
     "data": {
      "text/html": [
       "<div>\n",
       "<style scoped>\n",
       "    .dataframe tbody tr th:only-of-type {\n",
       "        vertical-align: middle;\n",
       "    }\n",
       "\n",
       "    .dataframe tbody tr th {\n",
       "        vertical-align: top;\n",
       "    }\n",
       "\n",
       "    .dataframe thead th {\n",
       "        text-align: right;\n",
       "    }\n",
       "</style>\n",
       "<table border=\"1\" class=\"dataframe\">\n",
       "  <thead>\n",
       "    <tr style=\"text-align: right;\">\n",
       "      <th></th>\n",
       "      <th>EnqueuedTimeUtc</th>\n",
       "      <th>EventName</th>\n",
       "      <th>Payload</th>\n",
       "    </tr>\n",
       "  </thead>\n",
       "  <tbody>\n",
       "    <tr>\n",
       "      <th>3</th>\n",
       "      <td>2021-08-25 02:02:55-03:00</td>\n",
       "      <td>CurateOffer_Result</td>\n",
       "      <td>[{\"curationProvider\":\"ByPrice\",\"offerId\":\"149f...</td>\n",
       "    </tr>\n",
       "    <tr>\n",
       "      <th>13</th>\n",
       "      <td>2021-08-25 06:03:29-03:00</td>\n",
       "      <td>CurateOffer_Result</td>\n",
       "      <td>[{\"curationProvider\":\"ByPrice\",\"offerId\":\"c99a...</td>\n",
       "    </tr>\n",
       "    <tr>\n",
       "      <th>15</th>\n",
       "      <td>2021-08-25 02:02:18-03:00</td>\n",
       "      <td>CurateOffer_Result</td>\n",
       "      <td>[{\"curationProvider\":\"ByPrice\",\"offerId\":\"d668...</td>\n",
       "    </tr>\n",
       "    <tr>\n",
       "      <th>17</th>\n",
       "      <td>2021-08-25 06:02:29-03:00</td>\n",
       "      <td>CurateOffer_Result</td>\n",
       "      <td>[{\"curationProvider\":\"ByPrice\",\"offerId\":\"0a06...</td>\n",
       "    </tr>\n",
       "    <tr>\n",
       "      <th>35</th>\n",
       "      <td>2021-08-25 06:03:14-03:00</td>\n",
       "      <td>CurateOffer_Result</td>\n",
       "      <td>[{\"curationProvider\":\"ByPrice\",\"offerId\":\"135d...</td>\n",
       "    </tr>\n",
       "  </tbody>\n",
       "</table>\n",
       "</div>"
      ],
      "text/plain": [
       "             EnqueuedTimeUtc           EventName  \\\n",
       "3  2021-08-25 02:02:55-03:00  CurateOffer_Result   \n",
       "13 2021-08-25 06:03:29-03:00  CurateOffer_Result   \n",
       "15 2021-08-25 02:02:18-03:00  CurateOffer_Result   \n",
       "17 2021-08-25 06:02:29-03:00  CurateOffer_Result   \n",
       "35 2021-08-25 06:03:14-03:00  CurateOffer_Result   \n",
       "\n",
       "                                              Payload  \n",
       "3   [{\"curationProvider\":\"ByPrice\",\"offerId\":\"149f...  \n",
       "13  [{\"curationProvider\":\"ByPrice\",\"offerId\":\"c99a...  \n",
       "15  [{\"curationProvider\":\"ByPrice\",\"offerId\":\"d668...  \n",
       "17  [{\"curationProvider\":\"ByPrice\",\"offerId\":\"0a06...  \n",
       "35  [{\"curationProvider\":\"ByPrice\",\"offerId\":\"135d...  "
      ]
     },
     "execution_count": 8,
     "metadata": {},
     "output_type": "execute_result"
    }
   ],
   "source": [
    "CuratedOfferOptions = df[df[\"EventName\"] == \"CurateOffer_Result\"]\n",
    "CuratedOfferOptions"
   ]
  },
  {
   "cell_type": "code",
   "execution_count": 9,
   "id": "ee6d400c",
   "metadata": {},
   "outputs": [
    {
     "data": {
      "text/plain": [
       "'[{\"curationProvider\":\"ByPrice\",\"offerId\":\"149f0e53-ff85-425f-a01a-8710f06704ea\",\"dealerId\":\"6517\",\"options\":[{\"uniqueOptionId\":\"b0e296a9-0590-f0e0-8211-243a2ededb12\",\"optionId\":\"6517 || dd839e4c-9f84-45eb-9cb2-9069fecf70f2\",\"isMobileDealer\":true,\"isOpen\":true,\"eta\":\"1:00\",\"chamaScore\":8.0,\"productBrand\":\"ULTRAGAZ\",\"isWinner\":true,\"minimumPrice\":90.00,\"maximumPrice\":180.00,\"dynamicPrice\":91.90,\"finalPrice\":91.90},{\"uniqueOptionId\":\"d6562c24-0b37-5fb4-8275-65b7b8b47b87\",\"optionId\":\"6517 || 6517\",\"isMobileDealer\":false,\"isOpen\":false,\"eta\":\"0:01\",\"chamaScore\":8.0,\"productBrand\":\"ULTRAGAZ\",\"isWinner\":false,\"minimumPrice\":90.00,\"maximumPrice\":180.00,\"dynamicPrice\":91.90,\"finalPrice\":91.90,\"defeatPrimaryReason\":\"Closed\",\"defeatReasons\":[\"Closed\",\"HasDriverInOffer\"]}]},{\"curationProvider\":\"ByPrice\",\"offerId\":\"149f0e53-ff85-425f-a01a-8710f06704ea\",\"dealerId\":\"9047\",\"options\":[{\"uniqueOptionId\":\"8d0f9262-f543-d0c8-a869-33985ae3ecda\",\"optionId\":\"9047 || 9047 || ULTRAGAZ\",\"isMobileDealer\":false,\"isOpen\":false,\"eta\":\"1:00\",\"chamaScore\":9.0,\"productBrand\":\"ULTRAGAZ\",\"isWinner\":false,\"minimumPrice\":99.00,\"maximumPrice\":198.00,\"dynamicPrice\":99.95,\"finalPrice\":99.95,\"defeatPrimaryReason\":\"Closed\",\"defeatReasons\":[\"Closed\",\"HigherPrice\",\"HasDriverInOffer\"]},{\"uniqueOptionId\":\"3cd346f4-d297-7568-2e50-d43a8e2fd0a9\",\"optionId\":\"9047 || 9047 || CONSIGAZ\",\"isMobileDealer\":false,\"isOpen\":false,\"eta\":\"1:00\",\"chamaScore\":9.0,\"productBrand\":\"CONSIGAZ\",\"isWinner\":false,\"minimumPrice\":89.99,\"maximumPrice\":179.98,\"dynamicPrice\":91.89,\"finalPrice\":91.89,\"defeatPrimaryReason\":\"Closed\",\"defeatReasons\":[\"Closed\",\"HigherPrice\",\"HigherETA\"]},{\"uniqueOptionId\":\"577e4bbd-f49d-ac23-56a6-e70072a05229\",\"optionId\":\"9047 || 9047 || LIQUIGAS\",\"isMobileDealer\":false,\"isOpen\":false,\"eta\":\"1:00\",\"chamaScore\":9.0,\"productBrand\":\"LIQUIGAS\",\"isWinner\":false,\"minimumPrice\":92.00,\"maximumPrice\":184.00,\"dynamicPrice\":93.90,\"finalPrice\":93.90,\"defeatPrimaryReason\":\"Closed\",\"defeatReasons\":[\"Closed\",\"HigherPrice\",\"HigherETA\"]},{\"uniqueOptionId\":\"f9b876ab-2590-952f-d69d-5b352ec251f3\",\"optionId\":\"9047 || 9047 || NACIONALGAS\",\"isMobileDealer\":false,\"isOpen\":false,\"eta\":\"1:00\",\"chamaScore\":9.0,\"productBrand\":\"NACIONALGAS\",\"isWinner\":true,\"minimumPrice\":88.90,\"maximumPrice\":177.80,\"dynamicPrice\":90.80,\"finalPrice\":90.80}]},{\"curationProvider\":\"ByPrice\",\"offerId\":\"149f0e53-ff85-425f-a01a-8710f06704ea\",\"dealerId\":\"8330\",\"options\":[{\"uniqueOptionId\":\"151e59ac-761a-96f5-d2b9-882037a9fd28\",\"optionId\":\"8330 || 8330 || CONSIGAZ\",\"isMobileDealer\":false,\"isOpen\":true,\"eta\":\"0:01\",\"chamaScore\":8.0,\"productBrand\":\"CONSIGAZ\",\"isWinner\":true,\"minimumPrice\":80.00,\"maximumPrice\":160.00,\"dynamicPrice\":87.35,\"finalPrice\":87.35}]},{\"curationProvider\":\"ByPrice\",\"offerId\":\"149f0e53-ff85-425f-a01a-8710f06704ea\",\"dealerId\":\"8835\",\"options\":[{\"uniqueOptionId\":\"b7a7b6d1-4dae-7392-5aaf-f3369c29db1d\",\"optionId\":\"8835 || 8835 || LIQUIGAS\",\"isMobileDealer\":false,\"isOpen\":false,\"eta\":\"0:01\",\"chamaScore\":8.0,\"productBrand\":\"LIQUIGAS\",\"isWinner\":true,\"minimumPrice\":60.00,\"maximumPrice\":120.00,\"dynamicPrice\":87.35,\"finalPrice\":87.35}]}]'"
      ]
     },
     "execution_count": 9,
     "metadata": {},
     "output_type": "execute_result"
    }
   ],
   "source": [
    "CuratedOfferOptions.Payload[3]"
   ]
  },
  {
   "cell_type": "markdown",
   "id": "d2ac9e38",
   "metadata": {},
   "source": [
    "**One value from above output**\n",
    "\n",
    "{\"curationProvider\":\"ByPrice\",\"offerId\":\"149f0e53-ff85-425f-a01a-8710f06704ea\",\"dealerId\":\"6517\",\"options\":[{\"uniqueOptionId\":\"b0e296a9-0590-f0e0-8211-243a2ededb12\",\"optionId\":\"6517 || dd839e4c-9f84-45eb-9cb2-9069fecf70f2\",\"isMobileDealer\":true,\"isOpen\":true,\"eta\":\"1:00\",\"chamaScore\":8.0,\"productBrand\":\"ULTRAGAZ\",\"isWinner\":true,\"minimumPrice\":90.00,\"maximumPrice\":180.00,\"dynamicPrice\":91.90,\"finalPrice\":91.90},{\"uniqueOptionId\":\"d6562c24-0b37-5fb4-8275-65b7b8b47b87\",\"optionId\":\"6517 || 6517\",\"isMobileDealer\":false,\"isOpen\":false,\"eta\":\"0:01\",\"chamaScore\":8.0,\"productBrand\":\"ULTRAGAZ\",\"isWinner\":false,\"minimumPrice\":90.00,\"maximumPrice\":180.00,\"dynamicPrice\":91.90,\"finalPrice\":91.90,\"defeatPrimaryReason\":\"Closed\",\"defeatReasons\":[\"Closed\",\"HasDriverInOffer\"]}"
   ]
  },
  {
   "cell_type": "code",
   "execution_count": 10,
   "id": "8bc6474c",
   "metadata": {},
   "outputs": [],
   "source": [
    "def curated_offer(row):\n",
    "    enqueued_time = row[\"EnqueuedTimeUtc\"].to_pydatetime().strftime(\"%d/%m/%y\")\n",
    "    payload_row = row[\"Payload\"]\n",
    "    payload_row = json.loads(payload_row)\n",
    "    result = []\n",
    "    for el in payload_row:\n",
    "        curation_provider = f\"\\\"{el['curationProvider']}\\\"\"\n",
    "        offer_id = f\"\\\"{el['offerId']}\\\"\"\n",
    "        dealer_id = f\"\\\"{el['dealerId']}\\\"\"\n",
    "        for option in el[\"options\"]:\n",
    "            offer_options = {\n",
    "                \"CurationProvider\": curation_provider,\n",
    "                \"OfferId\": offer_id,\n",
    "                \"DealerId\": dealer_id,\n",
    "                \"UniqueOptionId\": f\"\\\"{option['uniqueOptionId']}\\\"\",\n",
    "                \"OptionId\": f\"\\\"{option['optionId']}\\\"\",\n",
    "                \"IsMobileDealer\": option[\"isMobileDealer\"],\n",
    "                \"IsOpen\": option[\"isOpen\"],\n",
    "                \"Eta\": f\"\\\"{option['eta']}\\\"\",\n",
    "                \"ChamaScore\": option[\"chamaScore\"],\n",
    "                \"ProductBrand\": f\"\\\"{option['productBrand']}\\\"\",\n",
    "                \"IsWinner\": option[\"isWinner\"],\n",
    "                \"MinimumPrice\": option[\"minimumPrice\"],\n",
    "                \"MaximumPrice\": option[\"maximumPrice\"],\n",
    "                \"DynamicPrice\": option[\"dynamicPrice\"],\n",
    "                \"FinalPrice\": option[\"finalPrice\"]\n",
    "            }\n",
    "            if \"defeatPrimaryReason\" in option:\n",
    "                offer_options[\"DefeatPrimaryReason\"] = f\"\\\"{option['defeatPrimaryReason']}\\\"\"\n",
    "                offer_options[\"DefeatReasons\"] = f\"\\\"{option['defeatReasons']}\\\"\"\n",
    "            else:\n",
    "                offer_options[\"DefeatPrimaryReason\"] = \"\\\"\\\"\"\n",
    "                offer_options[\"DefeatReasons\"] = \"\\\"\\\"\"\n",
    "            offer_options[\"EnqueuedTimeSP\"] = enqueued_time\n",
    "            result.append(offer_options)\n",
    "    return result\n",
    "\n",
    "\n",
    "flatten = [x for xs in CuratedOfferOptions.apply(curated_offer, axis=1) for x in xs]\n",
    "CuratedOfferOptions_Final = pd.DataFrame(flatten)"
   ]
  },
  {
   "cell_type": "code",
   "execution_count": 11,
   "id": "e200e89c",
   "metadata": {
    "scrolled": false
   },
   "outputs": [
    {
     "data": {
      "text/html": [
       "<div>\n",
       "<style scoped>\n",
       "    .dataframe tbody tr th:only-of-type {\n",
       "        vertical-align: middle;\n",
       "    }\n",
       "\n",
       "    .dataframe tbody tr th {\n",
       "        vertical-align: top;\n",
       "    }\n",
       "\n",
       "    .dataframe thead th {\n",
       "        text-align: right;\n",
       "    }\n",
       "</style>\n",
       "<table border=\"1\" class=\"dataframe\">\n",
       "  <thead>\n",
       "    <tr style=\"text-align: right;\">\n",
       "      <th></th>\n",
       "      <th>CurationProvider</th>\n",
       "      <th>OfferId</th>\n",
       "      <th>DealerId</th>\n",
       "      <th>UniqueOptionId</th>\n",
       "      <th>OptionId</th>\n",
       "      <th>IsMobileDealer</th>\n",
       "      <th>IsOpen</th>\n",
       "      <th>Eta</th>\n",
       "      <th>ChamaScore</th>\n",
       "      <th>ProductBrand</th>\n",
       "      <th>IsWinner</th>\n",
       "      <th>MinimumPrice</th>\n",
       "      <th>MaximumPrice</th>\n",
       "      <th>DynamicPrice</th>\n",
       "      <th>FinalPrice</th>\n",
       "      <th>DefeatPrimaryReason</th>\n",
       "      <th>DefeatReasons</th>\n",
       "      <th>EnqueuedTimeSP</th>\n",
       "    </tr>\n",
       "  </thead>\n",
       "  <tbody>\n",
       "    <tr>\n",
       "      <th>0</th>\n",
       "      <td>\"ByPrice\"</td>\n",
       "      <td>\"149f0e53-ff85-425f-a01a-8710f06704ea\"</td>\n",
       "      <td>\"6517\"</td>\n",
       "      <td>\"b0e296a9-0590-f0e0-8211-243a2ededb12\"</td>\n",
       "      <td>\"6517 || dd839e4c-9f84-45eb-9cb2-9069fecf70f2\"</td>\n",
       "      <td>True</td>\n",
       "      <td>True</td>\n",
       "      <td>\"1:00\"</td>\n",
       "      <td>8.0</td>\n",
       "      <td>\"ULTRAGAZ\"</td>\n",
       "      <td>True</td>\n",
       "      <td>90.00</td>\n",
       "      <td>180.00</td>\n",
       "      <td>91.90</td>\n",
       "      <td>91.90</td>\n",
       "      <td>\"\"</td>\n",
       "      <td>\"\"</td>\n",
       "      <td>25/08/21</td>\n",
       "    </tr>\n",
       "    <tr>\n",
       "      <th>1</th>\n",
       "      <td>\"ByPrice\"</td>\n",
       "      <td>\"149f0e53-ff85-425f-a01a-8710f06704ea\"</td>\n",
       "      <td>\"6517\"</td>\n",
       "      <td>\"d6562c24-0b37-5fb4-8275-65b7b8b47b87\"</td>\n",
       "      <td>\"6517 || 6517\"</td>\n",
       "      <td>False</td>\n",
       "      <td>False</td>\n",
       "      <td>\"0:01\"</td>\n",
       "      <td>8.0</td>\n",
       "      <td>\"ULTRAGAZ\"</td>\n",
       "      <td>False</td>\n",
       "      <td>90.00</td>\n",
       "      <td>180.00</td>\n",
       "      <td>91.90</td>\n",
       "      <td>91.90</td>\n",
       "      <td>\"Closed\"</td>\n",
       "      <td>\"['Closed', 'HasDriverInOffer']\"</td>\n",
       "      <td>25/08/21</td>\n",
       "    </tr>\n",
       "    <tr>\n",
       "      <th>2</th>\n",
       "      <td>\"ByPrice\"</td>\n",
       "      <td>\"149f0e53-ff85-425f-a01a-8710f06704ea\"</td>\n",
       "      <td>\"9047\"</td>\n",
       "      <td>\"8d0f9262-f543-d0c8-a869-33985ae3ecda\"</td>\n",
       "      <td>\"9047 || 9047 || ULTRAGAZ\"</td>\n",
       "      <td>False</td>\n",
       "      <td>False</td>\n",
       "      <td>\"1:00\"</td>\n",
       "      <td>9.0</td>\n",
       "      <td>\"ULTRAGAZ\"</td>\n",
       "      <td>False</td>\n",
       "      <td>99.00</td>\n",
       "      <td>198.00</td>\n",
       "      <td>99.95</td>\n",
       "      <td>99.95</td>\n",
       "      <td>\"Closed\"</td>\n",
       "      <td>\"['Closed', 'HigherPrice', 'HasDriverInOffer']\"</td>\n",
       "      <td>25/08/21</td>\n",
       "    </tr>\n",
       "    <tr>\n",
       "      <th>3</th>\n",
       "      <td>\"ByPrice\"</td>\n",
       "      <td>\"149f0e53-ff85-425f-a01a-8710f06704ea\"</td>\n",
       "      <td>\"9047\"</td>\n",
       "      <td>\"3cd346f4-d297-7568-2e50-d43a8e2fd0a9\"</td>\n",
       "      <td>\"9047 || 9047 || CONSIGAZ\"</td>\n",
       "      <td>False</td>\n",
       "      <td>False</td>\n",
       "      <td>\"1:00\"</td>\n",
       "      <td>9.0</td>\n",
       "      <td>\"CONSIGAZ\"</td>\n",
       "      <td>False</td>\n",
       "      <td>89.99</td>\n",
       "      <td>179.98</td>\n",
       "      <td>91.89</td>\n",
       "      <td>91.89</td>\n",
       "      <td>\"Closed\"</td>\n",
       "      <td>\"['Closed', 'HigherPrice', 'HigherETA']\"</td>\n",
       "      <td>25/08/21</td>\n",
       "    </tr>\n",
       "    <tr>\n",
       "      <th>4</th>\n",
       "      <td>\"ByPrice\"</td>\n",
       "      <td>\"149f0e53-ff85-425f-a01a-8710f06704ea\"</td>\n",
       "      <td>\"9047\"</td>\n",
       "      <td>\"577e4bbd-f49d-ac23-56a6-e70072a05229\"</td>\n",
       "      <td>\"9047 || 9047 || LIQUIGAS\"</td>\n",
       "      <td>False</td>\n",
       "      <td>False</td>\n",
       "      <td>\"1:00\"</td>\n",
       "      <td>9.0</td>\n",
       "      <td>\"LIQUIGAS\"</td>\n",
       "      <td>False</td>\n",
       "      <td>92.00</td>\n",
       "      <td>184.00</td>\n",
       "      <td>93.90</td>\n",
       "      <td>93.90</td>\n",
       "      <td>\"Closed\"</td>\n",
       "      <td>\"['Closed', 'HigherPrice', 'HigherETA']\"</td>\n",
       "      <td>25/08/21</td>\n",
       "    </tr>\n",
       "  </tbody>\n",
       "</table>\n",
       "</div>"
      ],
      "text/plain": [
       "  CurationProvider                                 OfferId DealerId  \\\n",
       "0        \"ByPrice\"  \"149f0e53-ff85-425f-a01a-8710f06704ea\"   \"6517\"   \n",
       "1        \"ByPrice\"  \"149f0e53-ff85-425f-a01a-8710f06704ea\"   \"6517\"   \n",
       "2        \"ByPrice\"  \"149f0e53-ff85-425f-a01a-8710f06704ea\"   \"9047\"   \n",
       "3        \"ByPrice\"  \"149f0e53-ff85-425f-a01a-8710f06704ea\"   \"9047\"   \n",
       "4        \"ByPrice\"  \"149f0e53-ff85-425f-a01a-8710f06704ea\"   \"9047\"   \n",
       "\n",
       "                           UniqueOptionId  \\\n",
       "0  \"b0e296a9-0590-f0e0-8211-243a2ededb12\"   \n",
       "1  \"d6562c24-0b37-5fb4-8275-65b7b8b47b87\"   \n",
       "2  \"8d0f9262-f543-d0c8-a869-33985ae3ecda\"   \n",
       "3  \"3cd346f4-d297-7568-2e50-d43a8e2fd0a9\"   \n",
       "4  \"577e4bbd-f49d-ac23-56a6-e70072a05229\"   \n",
       "\n",
       "                                         OptionId  IsMobileDealer  IsOpen  \\\n",
       "0  \"6517 || dd839e4c-9f84-45eb-9cb2-9069fecf70f2\"            True    True   \n",
       "1                                  \"6517 || 6517\"           False   False   \n",
       "2                      \"9047 || 9047 || ULTRAGAZ\"           False   False   \n",
       "3                      \"9047 || 9047 || CONSIGAZ\"           False   False   \n",
       "4                      \"9047 || 9047 || LIQUIGAS\"           False   False   \n",
       "\n",
       "      Eta  ChamaScore ProductBrand  IsWinner  MinimumPrice  MaximumPrice  \\\n",
       "0  \"1:00\"         8.0   \"ULTRAGAZ\"      True         90.00        180.00   \n",
       "1  \"0:01\"         8.0   \"ULTRAGAZ\"     False         90.00        180.00   \n",
       "2  \"1:00\"         9.0   \"ULTRAGAZ\"     False         99.00        198.00   \n",
       "3  \"1:00\"         9.0   \"CONSIGAZ\"     False         89.99        179.98   \n",
       "4  \"1:00\"         9.0   \"LIQUIGAS\"     False         92.00        184.00   \n",
       "\n",
       "   DynamicPrice  FinalPrice DefeatPrimaryReason  \\\n",
       "0         91.90       91.90                  \"\"   \n",
       "1         91.90       91.90            \"Closed\"   \n",
       "2         99.95       99.95            \"Closed\"   \n",
       "3         91.89       91.89            \"Closed\"   \n",
       "4         93.90       93.90            \"Closed\"   \n",
       "\n",
       "                                     DefeatReasons EnqueuedTimeSP  \n",
       "0                                               \"\"       25/08/21  \n",
       "1                 \"['Closed', 'HasDriverInOffer']\"       25/08/21  \n",
       "2  \"['Closed', 'HigherPrice', 'HasDriverInOffer']\"       25/08/21  \n",
       "3         \"['Closed', 'HigherPrice', 'HigherETA']\"       25/08/21  \n",
       "4         \"['Closed', 'HigherPrice', 'HigherETA']\"       25/08/21  "
      ]
     },
     "execution_count": 11,
     "metadata": {},
     "output_type": "execute_result"
    }
   ],
   "source": [
    "CuratedOfferOptions_Final.head()"
   ]
  },
  {
   "cell_type": "code",
   "execution_count": 12,
   "id": "8c3932c2",
   "metadata": {},
   "outputs": [
    {
     "data": {
      "text/plain": [
       "(40, 18)"
      ]
     },
     "execution_count": 12,
     "metadata": {},
     "output_type": "execute_result"
    }
   ],
   "source": [
    "CuratedOfferOptions_Final.shape"
   ]
  },
  {
   "cell_type": "code",
   "execution_count": 13,
   "id": "3e9f4185",
   "metadata": {},
   "outputs": [],
   "source": [
    "# CuratedOfferOptions_Final.to_csv('CuratedOfferOptions.csv', index=False)"
   ]
  },
  {
   "cell_type": "code",
   "execution_count": null,
   "id": "e605a603",
   "metadata": {},
   "outputs": [],
   "source": []
  },
  {
   "cell_type": "markdown",
   "id": "77b84b6c",
   "metadata": {},
   "source": [
    "### Create DynamicPriceOption.csv file"
   ]
  },
  {
   "cell_type": "code",
   "execution_count": 14,
   "id": "bc24872d",
   "metadata": {},
   "outputs": [
    {
     "data": {
      "text/html": [
       "<div>\n",
       "<style scoped>\n",
       "    .dataframe tbody tr th:only-of-type {\n",
       "        vertical-align: middle;\n",
       "    }\n",
       "\n",
       "    .dataframe tbody tr th {\n",
       "        vertical-align: top;\n",
       "    }\n",
       "\n",
       "    .dataframe thead th {\n",
       "        text-align: right;\n",
       "    }\n",
       "</style>\n",
       "<table border=\"1\" class=\"dataframe\">\n",
       "  <thead>\n",
       "    <tr style=\"text-align: right;\">\n",
       "      <th></th>\n",
       "      <th>EnqueuedTimeUtc</th>\n",
       "      <th>EventName</th>\n",
       "      <th>Payload</th>\n",
       "    </tr>\n",
       "  </thead>\n",
       "  <tbody>\n",
       "    <tr>\n",
       "      <th>0</th>\n",
       "      <td>2021-09-05 05:04:08-03:00</td>\n",
       "      <td>DynamicPrice_Result</td>\n",
       "      <td>{\"provider\":\"ApplyDynamicPriceRange\",\"offerId\"...</td>\n",
       "    </tr>\n",
       "    <tr>\n",
       "      <th>1</th>\n",
       "      <td>2021-08-18 08:43:23-03:00</td>\n",
       "      <td>DynamicPrice_Result</td>\n",
       "      <td>{\"provider\":\"ApplyDynamicPricePerOption\",\"offe...</td>\n",
       "    </tr>\n",
       "    <tr>\n",
       "      <th>2</th>\n",
       "      <td>2021-09-05 06:04:04-03:00</td>\n",
       "      <td>DynamicPrice_Result</td>\n",
       "      <td>{\"provider\":\"ApplyDynamicPriceRange\",\"offerId\"...</td>\n",
       "    </tr>\n",
       "    <tr>\n",
       "      <th>4</th>\n",
       "      <td>2021-09-05 05:03:28-03:00</td>\n",
       "      <td>DynamicPrice_Result</td>\n",
       "      <td>{\"provider\":\"ApplyDynamicPriceRange\",\"offerId\"...</td>\n",
       "    </tr>\n",
       "    <tr>\n",
       "      <th>5</th>\n",
       "      <td>2021-08-18 08:44:00-03:00</td>\n",
       "      <td>DynamicPrice_Result</td>\n",
       "      <td>{\"provider\":\"ApplyDynamicPricePerOption\",\"offe...</td>\n",
       "    </tr>\n",
       "  </tbody>\n",
       "</table>\n",
       "</div>"
      ],
      "text/plain": [
       "            EnqueuedTimeUtc            EventName  \\\n",
       "0 2021-09-05 05:04:08-03:00  DynamicPrice_Result   \n",
       "1 2021-08-18 08:43:23-03:00  DynamicPrice_Result   \n",
       "2 2021-09-05 06:04:04-03:00  DynamicPrice_Result   \n",
       "4 2021-09-05 05:03:28-03:00  DynamicPrice_Result   \n",
       "5 2021-08-18 08:44:00-03:00  DynamicPrice_Result   \n",
       "\n",
       "                                             Payload  \n",
       "0  {\"provider\":\"ApplyDynamicPriceRange\",\"offerId\"...  \n",
       "1  {\"provider\":\"ApplyDynamicPricePerOption\",\"offe...  \n",
       "2  {\"provider\":\"ApplyDynamicPriceRange\",\"offerId\"...  \n",
       "4  {\"provider\":\"ApplyDynamicPriceRange\",\"offerId\"...  \n",
       "5  {\"provider\":\"ApplyDynamicPricePerOption\",\"offe...  "
      ]
     },
     "execution_count": 14,
     "metadata": {},
     "output_type": "execute_result"
    }
   ],
   "source": [
    "DynamicPrice_Option_Range = df[df[\"EventName\"] == \"DynamicPrice_Result\"]\n",
    "DynamicPrice_Option_Range.head()"
   ]
  },
  {
   "cell_type": "code",
   "execution_count": 15,
   "id": "9a48ef97",
   "metadata": {},
   "outputs": [
    {
     "data": {
      "text/plain": [
       "'{\"provider\":\"ApplyDynamicPricePerOption\",\"offerId\":\"56e0702c-0218-4626-8d3d-ae9d54b4503b\",\"algorithmOutput\":[{\"uniqueOptionId\":\"b0e296a9-0590-f0e0-8211-243a2ededb12\",\"bestPrice\":92.45},{\"uniqueOptionId\":\"d6562c24-0b37-5fb4-8275-65b7b8b47b87\",\"bestPrice\":92.45},{\"uniqueOptionId\":\"8d0f9262-f543-d0c8-a869-33985ae3ecda\",\"bestPrice\":92.45},{\"uniqueOptionId\":\"151e59ac-761a-96f5-d2b9-882037a9fd28\",\"bestPrice\":94.6},{\"uniqueOptionId\":\"3cd346f4-d297-7568-2e50-d43a8e2fd0a9\",\"bestPrice\":94.6},{\"uniqueOptionId\":\"b7a7b6d1-4dae-7392-5aaf-f3369c29db1d\",\"bestPrice\":93.0},{\"uniqueOptionId\":\"577e4bbd-f49d-ac23-56a6-e70072a05229\",\"bestPrice\":93.0},{\"uniqueOptionId\":\"f9b876ab-2590-952f-d69d-5b352ec251f3\",\"bestPrice\":91.35}]}'"
      ]
     },
     "execution_count": 15,
     "metadata": {},
     "output_type": "execute_result"
    }
   ],
   "source": [
    "DynamicPrice_Option_Range.Payload[1]"
   ]
  },
  {
   "cell_type": "code",
   "execution_count": 16,
   "id": "73aa8e55",
   "metadata": {},
   "outputs": [],
   "source": [
    "def dynamic_price_option(row):\n",
    "    enqueued_time = row[\"EnqueuedTimeUtc\"].to_pydatetime().strftime(\"%d/%m/%y\")\n",
    "    payload_row = row[\"Payload\"]\n",
    "    payload_row = json.loads(payload_row)\n",
    "    result = []\n",
    "    if payload_row[\"provider\"] == \"ApplyDynamicPricePerOption\":\n",
    "        provider = f\"\\\"{payload_row['provider']}\\\"\"\n",
    "        offer_id = f\"\\\"{payload_row['offerId']}\\\"\"\n",
    "        for unique_option in payload_row[\"algorithmOutput\"]:\n",
    "            price_option = {\n",
    "                \"Provider\": provider,\n",
    "                \"OfferId\": offer_id,\n",
    "                \"UniqueOptionId\": f\"\\\"{unique_option['uniqueOptionId']}\\\"\",\n",
    "                \"BestPrice\": unique_option[\"bestPrice\"],\n",
    "                \"EnqueuedTimeSP\": enqueued_time\n",
    "            }\n",
    "            result.append(price_option)\n",
    "    return result\n",
    "\n",
    "\n",
    "lst = DynamicPrice_Option_Range.apply(dynamic_price_option, axis=1)\n",
    "flatten = [x for xs in lst for x in xs]\n",
    "DynamicPriceOption_Final = pd.DataFrame(flatten)"
   ]
  },
  {
   "cell_type": "code",
   "execution_count": 17,
   "id": "e9ada92f",
   "metadata": {},
   "outputs": [
    {
     "data": {
      "text/html": [
       "<div>\n",
       "<style scoped>\n",
       "    .dataframe tbody tr th:only-of-type {\n",
       "        vertical-align: middle;\n",
       "    }\n",
       "\n",
       "    .dataframe tbody tr th {\n",
       "        vertical-align: top;\n",
       "    }\n",
       "\n",
       "    .dataframe thead th {\n",
       "        text-align: right;\n",
       "    }\n",
       "</style>\n",
       "<table border=\"1\" class=\"dataframe\">\n",
       "  <thead>\n",
       "    <tr style=\"text-align: right;\">\n",
       "      <th></th>\n",
       "      <th>Provider</th>\n",
       "      <th>OfferId</th>\n",
       "      <th>UniqueOptionId</th>\n",
       "      <th>BestPrice</th>\n",
       "      <th>EnqueuedTimeSP</th>\n",
       "    </tr>\n",
       "  </thead>\n",
       "  <tbody>\n",
       "    <tr>\n",
       "      <th>0</th>\n",
       "      <td>\"ApplyDynamicPricePerOption\"</td>\n",
       "      <td>\"56e0702c-0218-4626-8d3d-ae9d54b4503b\"</td>\n",
       "      <td>\"b0e296a9-0590-f0e0-8211-243a2ededb12\"</td>\n",
       "      <td>92.45</td>\n",
       "      <td>18/08/21</td>\n",
       "    </tr>\n",
       "    <tr>\n",
       "      <th>1</th>\n",
       "      <td>\"ApplyDynamicPricePerOption\"</td>\n",
       "      <td>\"56e0702c-0218-4626-8d3d-ae9d54b4503b\"</td>\n",
       "      <td>\"d6562c24-0b37-5fb4-8275-65b7b8b47b87\"</td>\n",
       "      <td>92.45</td>\n",
       "      <td>18/08/21</td>\n",
       "    </tr>\n",
       "    <tr>\n",
       "      <th>2</th>\n",
       "      <td>\"ApplyDynamicPricePerOption\"</td>\n",
       "      <td>\"56e0702c-0218-4626-8d3d-ae9d54b4503b\"</td>\n",
       "      <td>\"8d0f9262-f543-d0c8-a869-33985ae3ecda\"</td>\n",
       "      <td>92.45</td>\n",
       "      <td>18/08/21</td>\n",
       "    </tr>\n",
       "    <tr>\n",
       "      <th>3</th>\n",
       "      <td>\"ApplyDynamicPricePerOption\"</td>\n",
       "      <td>\"56e0702c-0218-4626-8d3d-ae9d54b4503b\"</td>\n",
       "      <td>\"151e59ac-761a-96f5-d2b9-882037a9fd28\"</td>\n",
       "      <td>94.60</td>\n",
       "      <td>18/08/21</td>\n",
       "    </tr>\n",
       "    <tr>\n",
       "      <th>4</th>\n",
       "      <td>\"ApplyDynamicPricePerOption\"</td>\n",
       "      <td>\"56e0702c-0218-4626-8d3d-ae9d54b4503b\"</td>\n",
       "      <td>\"3cd346f4-d297-7568-2e50-d43a8e2fd0a9\"</td>\n",
       "      <td>94.60</td>\n",
       "      <td>18/08/21</td>\n",
       "    </tr>\n",
       "  </tbody>\n",
       "</table>\n",
       "</div>"
      ],
      "text/plain": [
       "                       Provider                                 OfferId  \\\n",
       "0  \"ApplyDynamicPricePerOption\"  \"56e0702c-0218-4626-8d3d-ae9d54b4503b\"   \n",
       "1  \"ApplyDynamicPricePerOption\"  \"56e0702c-0218-4626-8d3d-ae9d54b4503b\"   \n",
       "2  \"ApplyDynamicPricePerOption\"  \"56e0702c-0218-4626-8d3d-ae9d54b4503b\"   \n",
       "3  \"ApplyDynamicPricePerOption\"  \"56e0702c-0218-4626-8d3d-ae9d54b4503b\"   \n",
       "4  \"ApplyDynamicPricePerOption\"  \"56e0702c-0218-4626-8d3d-ae9d54b4503b\"   \n",
       "\n",
       "                           UniqueOptionId  BestPrice EnqueuedTimeSP  \n",
       "0  \"b0e296a9-0590-f0e0-8211-243a2ededb12\"      92.45       18/08/21  \n",
       "1  \"d6562c24-0b37-5fb4-8275-65b7b8b47b87\"      92.45       18/08/21  \n",
       "2  \"8d0f9262-f543-d0c8-a869-33985ae3ecda\"      92.45       18/08/21  \n",
       "3  \"151e59ac-761a-96f5-d2b9-882037a9fd28\"      94.60       18/08/21  \n",
       "4  \"3cd346f4-d297-7568-2e50-d43a8e2fd0a9\"      94.60       18/08/21  "
      ]
     },
     "execution_count": 17,
     "metadata": {},
     "output_type": "execute_result"
    }
   ],
   "source": [
    "DynamicPriceOption_Final.head()"
   ]
  },
  {
   "cell_type": "code",
   "execution_count": 18,
   "id": "e61ed7e9",
   "metadata": {},
   "outputs": [
    {
     "data": {
      "text/plain": [
       "(56, 5)"
      ]
     },
     "execution_count": 18,
     "metadata": {},
     "output_type": "execute_result"
    }
   ],
   "source": [
    "DynamicPriceOption_Final.shape"
   ]
  },
  {
   "cell_type": "code",
   "execution_count": 19,
   "id": "38bf14d6",
   "metadata": {},
   "outputs": [],
   "source": [
    "# DynamicPriceOption_Final.to_csv('DynamicPriceOption.csv', index=False)"
   ]
  },
  {
   "cell_type": "code",
   "execution_count": null,
   "id": "96e68af0",
   "metadata": {},
   "outputs": [],
   "source": []
  },
  {
   "cell_type": "markdown",
   "id": "6ab6eaf1",
   "metadata": {},
   "source": [
    "### Create DynamicPriceRange.csv file"
   ]
  },
  {
   "cell_type": "code",
   "execution_count": 20,
   "id": "d8c836d6",
   "metadata": {},
   "outputs": [],
   "source": [
    "def dynamic_price_range(row):\n",
    "    \"\"\"Transform the JSON payload into a dynamic price range dataframe.\"\"\"\n",
    "    enqueued_time = row[\"EnqueuedTimeUtc\"].to_pydatetime().strftime(\"%d/%m/%y\")\n",
    "    payload_row = row[\"Payload\"]\n",
    "    payload_row = json.loads(payload_row)\n",
    "    result = []\n",
    "    if payload_row[\"provider\"] == \"ApplyDynamicPriceRange\":\n",
    "        provider = f\"\\\"{payload_row['provider']}\\\"\"\n",
    "        offer_id = f\"\\\"{payload_row['offerId']}\\\"\"\n",
    "        algorithm_output = payload_row[\"algorithmOutput\"]\n",
    "        price_range = {\n",
    "            \"Provider\": provider,\n",
    "            \"OfferId\": offer_id,\n",
    "            \"MinGlobal\": algorithm_output[\"min_global\"],\n",
    "            \"MinRecommended\": algorithm_output[\"min_recommended\"],\n",
    "            \"MaxRecommended\": algorithm_output[\"max_recommended\"],\n",
    "            \"DifferenceMinRecommendMinTheory\": algorithm_output[\"differenceMinRecommendMinTheory\"],\n",
    "            \"EnqueuedTimeSP\": enqueued_time\n",
    "        }\n",
    "        result.append(price_range)\n",
    "    return result\n",
    "\n",
    "\n",
    "lst = DynamicPrice_Option_Range.apply(dynamic_price_range, axis=1)\n",
    "flatten = [x for xs in lst for x in xs]\n",
    "DynamicPriceRange_Final = pd.DataFrame(flatten)"
   ]
  },
  {
   "cell_type": "code",
   "execution_count": 21,
   "id": "e23aae6e",
   "metadata": {},
   "outputs": [
    {
     "data": {
      "text/html": [
       "<div>\n",
       "<style scoped>\n",
       "    .dataframe tbody tr th:only-of-type {\n",
       "        vertical-align: middle;\n",
       "    }\n",
       "\n",
       "    .dataframe tbody tr th {\n",
       "        vertical-align: top;\n",
       "    }\n",
       "\n",
       "    .dataframe thead th {\n",
       "        text-align: right;\n",
       "    }\n",
       "</style>\n",
       "<table border=\"1\" class=\"dataframe\">\n",
       "  <thead>\n",
       "    <tr style=\"text-align: right;\">\n",
       "      <th></th>\n",
       "      <th>Provider</th>\n",
       "      <th>OfferId</th>\n",
       "      <th>MinGlobal</th>\n",
       "      <th>MinRecommended</th>\n",
       "      <th>MaxRecommended</th>\n",
       "      <th>DifferenceMinRecommendMinTheory</th>\n",
       "      <th>EnqueuedTimeSP</th>\n",
       "    </tr>\n",
       "  </thead>\n",
       "  <tbody>\n",
       "    <tr>\n",
       "      <th>0</th>\n",
       "      <td>\"ApplyDynamicPriceRange\"</td>\n",
       "      <td>\"a6611d55-9624-4381-8cdd-323ee3689241\"</td>\n",
       "      <td>85.00</td>\n",
       "      <td>87.20</td>\n",
       "      <td>97.65</td>\n",
       "      <td>2.2</td>\n",
       "      <td>05/09/21</td>\n",
       "    </tr>\n",
       "    <tr>\n",
       "      <th>1</th>\n",
       "      <td>\"ApplyDynamicPriceRange\"</td>\n",
       "      <td>\"b8c636fa-8241-47dc-ac40-bdf438a04d9c\"</td>\n",
       "      <td>85.00</td>\n",
       "      <td>87.20</td>\n",
       "      <td>97.65</td>\n",
       "      <td>2.2</td>\n",
       "      <td>05/09/21</td>\n",
       "    </tr>\n",
       "    <tr>\n",
       "      <th>2</th>\n",
       "      <td>\"ApplyDynamicPriceRange\"</td>\n",
       "      <td>\"3d32f7fb-396d-4d3f-b673-dea1f7dc41b7\"</td>\n",
       "      <td>85.00</td>\n",
       "      <td>87.20</td>\n",
       "      <td>97.65</td>\n",
       "      <td>2.2</td>\n",
       "      <td>05/09/21</td>\n",
       "    </tr>\n",
       "    <tr>\n",
       "      <th>3</th>\n",
       "      <td>\"ApplyDynamicPriceRange\"</td>\n",
       "      <td>\"329194f3-95a4-45ef-b3d0-2796f74ce2a0\"</td>\n",
       "      <td>85.00</td>\n",
       "      <td>87.20</td>\n",
       "      <td>97.65</td>\n",
       "      <td>2.2</td>\n",
       "      <td>05/09/21</td>\n",
       "    </tr>\n",
       "    <tr>\n",
       "      <th>4</th>\n",
       "      <td>\"ApplyDynamicPriceRange\"</td>\n",
       "      <td>\"fdcfde5c-113d-4a59-9ae0-8bc31e2943d8\"</td>\n",
       "      <td>87.35</td>\n",
       "      <td>89.25</td>\n",
       "      <td>99.95</td>\n",
       "      <td>1.9</td>\n",
       "      <td>05/09/21</td>\n",
       "    </tr>\n",
       "  </tbody>\n",
       "</table>\n",
       "</div>"
      ],
      "text/plain": [
       "                   Provider                                 OfferId  \\\n",
       "0  \"ApplyDynamicPriceRange\"  \"a6611d55-9624-4381-8cdd-323ee3689241\"   \n",
       "1  \"ApplyDynamicPriceRange\"  \"b8c636fa-8241-47dc-ac40-bdf438a04d9c\"   \n",
       "2  \"ApplyDynamicPriceRange\"  \"3d32f7fb-396d-4d3f-b673-dea1f7dc41b7\"   \n",
       "3  \"ApplyDynamicPriceRange\"  \"329194f3-95a4-45ef-b3d0-2796f74ce2a0\"   \n",
       "4  \"ApplyDynamicPriceRange\"  \"fdcfde5c-113d-4a59-9ae0-8bc31e2943d8\"   \n",
       "\n",
       "   MinGlobal  MinRecommended  MaxRecommended  DifferenceMinRecommendMinTheory  \\\n",
       "0      85.00           87.20           97.65                              2.2   \n",
       "1      85.00           87.20           97.65                              2.2   \n",
       "2      85.00           87.20           97.65                              2.2   \n",
       "3      85.00           87.20           97.65                              2.2   \n",
       "4      87.35           89.25           99.95                              1.9   \n",
       "\n",
       "  EnqueuedTimeSP  \n",
       "0       05/09/21  \n",
       "1       05/09/21  \n",
       "2       05/09/21  \n",
       "3       05/09/21  \n",
       "4       05/09/21  "
      ]
     },
     "execution_count": 21,
     "metadata": {},
     "output_type": "execute_result"
    }
   ],
   "source": [
    "DynamicPriceRange_Final.head()"
   ]
  },
  {
   "cell_type": "code",
   "execution_count": 22,
   "id": "8af3518a",
   "metadata": {},
   "outputs": [
    {
     "data": {
      "text/plain": [
       "(25, 7)"
      ]
     },
     "execution_count": 22,
     "metadata": {},
     "output_type": "execute_result"
    }
   ],
   "source": [
    "DynamicPriceRange_Final.shape"
   ]
  },
  {
   "cell_type": "code",
   "execution_count": 23,
   "id": "6ad03eb2",
   "metadata": {},
   "outputs": [],
   "source": [
    "# DynamicPriceRange_Final.to_csv('DynamicPriceRange.csv', index=False)"
   ]
  }
 ],
 "metadata": {
  "kernelspec": {
   "display_name": "Python 3 (ipykernel)",
   "language": "python",
   "name": "python3"
  },
  "language_info": {
   "codemirror_mode": {
    "name": "ipython",
    "version": 3
   },
   "file_extension": ".py",
   "mimetype": "text/x-python",
   "name": "python",
   "nbconvert_exporter": "python",
   "pygments_lexer": "ipython3",
   "version": "3.9.12"
  }
 },
 "nbformat": 4,
 "nbformat_minor": 5
}
